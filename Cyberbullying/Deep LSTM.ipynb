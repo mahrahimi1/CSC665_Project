{
 "cells": [
  {
   "cell_type": "code",
   "execution_count": 1,
   "metadata": {},
   "outputs": [
    {
     "name": "stderr",
     "output_type": "stream",
     "text": [
      "C:\\Users\\Mahdi\\Anaconda3\\lib\\site-packages\\h5py\\__init__.py:36: FutureWarning: Conversion of the second argument of issubdtype from `float` to `np.floating` is deprecated. In future, it will be treated as `np.float64 == np.dtype(float).type`.\n",
      "  from ._conv import register_converters as _register_converters\n",
      "Using TensorFlow backend.\n",
      "C:\\Users\\Mahdi\\Anaconda3\\lib\\site-packages\\sklearn\\cross_validation.py:41: DeprecationWarning: This module was deprecated in version 0.18 in favor of the model_selection module into which all the refactored classes and functions are moved. Also note that the interface of the new CV iterators are different from that of this module. This module will be removed in 0.20.\n",
      "  \"This module will be removed in 0.20.\", DeprecationWarning)\n"
     ]
    }
   ],
   "source": [
    "import keras\n",
    "import numpy as np\n",
    "from keras import regularizers\n",
    "from keras.preprocessing.text import Tokenizer\n",
    "from keras.preprocessing.sequence import pad_sequences\n",
    "from keras.models import Sequential\n",
    "from keras.layers import *\n",
    "from keras.layers.embeddings import Embedding\n",
    "import matplotlib\n",
    "#matplotlib.use('Agg')\n",
    "#import matplotlib.pyplot as plt\n",
    "from matplotlib import pyplot as plt\n",
    "\n",
    "#import nltk\n",
    "#from nltk.corpus import stopwords\n",
    "#from nltk.stem import SnowballStemmer\n",
    "import re\n",
    "import string\n",
    "import numpy as np\n",
    "import pandas as pd\n",
    "from sklearn.manifold import TSNE\n",
    "import tensorflow as tf\n",
    "from tensorflow.contrib import rnn\n",
    "from sklearn.cross_validation import train_test_split\n",
    "from tensorflow.contrib import learn\n",
    "import os\n",
    "from collections import defaultdict\n",
    "from keras.callbacks import EarlyStopping\n",
    "#from gensim import corpora\n",
    "#pd.set_option('display.max_rows', 1000000000)"
   ]
  },
  {
   "cell_type": "code",
   "execution_count": 2,
   "metadata": {},
   "outputs": [
    {
     "data": {
      "text/html": [
       "<div>\n",
       "<style scoped>\n",
       "    .dataframe tbody tr th:only-of-type {\n",
       "        vertical-align: middle;\n",
       "    }\n",
       "\n",
       "    .dataframe tbody tr th {\n",
       "        vertical-align: top;\n",
       "    }\n",
       "\n",
       "    .dataframe thead th {\n",
       "        text-align: right;\n",
       "    }\n",
       "</style>\n",
       "<table border=\"1\" class=\"dataframe\">\n",
       "  <thead>\n",
       "    <tr style=\"text-align: right;\">\n",
       "      <th></th>\n",
       "      <th>user_id</th>\n",
       "      <th>label</th>\n",
       "      <th>tweet_id</th>\n",
       "    </tr>\n",
       "  </thead>\n",
       "  <tbody>\n",
       "    <tr>\n",
       "      <th>0</th>\n",
       "      <td>user_1</td>\n",
       "      <td>aggressor</td>\n",
       "      <td>657684957272387584</td>\n",
       "    </tr>\n",
       "    <tr>\n",
       "      <th>1</th>\n",
       "      <td>user_1</td>\n",
       "      <td>aggressor</td>\n",
       "      <td>657695791134416896</td>\n",
       "    </tr>\n",
       "    <tr>\n",
       "      <th>2</th>\n",
       "      <td>user_1</td>\n",
       "      <td>aggressor</td>\n",
       "      <td>656838718666493952</td>\n",
       "    </tr>\n",
       "    <tr>\n",
       "      <th>3</th>\n",
       "      <td>user_1</td>\n",
       "      <td>aggressor</td>\n",
       "      <td>657193317709565952</td>\n",
       "    </tr>\n",
       "    <tr>\n",
       "      <th>4</th>\n",
       "      <td>user_1</td>\n",
       "      <td>aggressor</td>\n",
       "      <td>657688224601632768</td>\n",
       "    </tr>\n",
       "  </tbody>\n",
       "</table>\n",
       "</div>"
      ],
      "text/plain": [
       "  user_id      label            tweet_id\n",
       "0  user_1  aggressor  657684957272387584\n",
       "1  user_1  aggressor  657695791134416896\n",
       "2  user_1  aggressor  656838718666493952\n",
       "3  user_1  aggressor  657193317709565952\n",
       "4  user_1  aggressor  657688224601632768"
      ]
     },
     "execution_count": 2,
     "metadata": {},
     "output_type": "execute_result"
    }
   ],
   "source": [
    "labels_csv = pd.read_csv(\"data\\\\data_singl_tweet_per_line.csv\")\n",
    "labels_csv.head()"
   ]
  },
  {
   "cell_type": "code",
   "execution_count": 3,
   "metadata": {},
   "outputs": [
    {
     "name": "stderr",
     "output_type": "stream",
     "text": [
      "C:\\Users\\Mahdi\\Anaconda3\\lib\\site-packages\\ipykernel_launcher.py:1: ParserWarning: Falling back to the 'python' engine because the 'c' engine does not support regex separators (separators > 1 char and different from '\\s+' are interpreted as regex); you can avoid this warning by specifying engine='python'.\n",
      "  \"\"\"Entry point for launching an IPython kernel.\n"
     ]
    },
    {
     "data": {
      "text/html": [
       "<div>\n",
       "<style scoped>\n",
       "    .dataframe tbody tr th:only-of-type {\n",
       "        vertical-align: middle;\n",
       "    }\n",
       "\n",
       "    .dataframe tbody tr th {\n",
       "        vertical-align: top;\n",
       "    }\n",
       "\n",
       "    .dataframe thead th {\n",
       "        text-align: right;\n",
       "    }\n",
       "</style>\n",
       "<table border=\"1\" class=\"dataframe\">\n",
       "  <thead>\n",
       "    <tr style=\"text-align: right;\">\n",
       "      <th></th>\n",
       "      <th>tweet_id</th>\n",
       "      <th>tweet</th>\n",
       "    </tr>\n",
       "  </thead>\n",
       "  <tbody>\n",
       "    <tr>\n",
       "      <th>0</th>\n",
       "      <td>692398237689327616</td>\n",
       "      <td>#ProChoice #Abortion Faith and the 2016 Campai...</td>\n",
       "    </tr>\n",
       "    <tr>\n",
       "      <th>1</th>\n",
       "      <td>660430372501499904</td>\n",
       "      <td>#HuffPost #Tcot 3 Things to Never Say to an Al...</td>\n",
       "    </tr>\n",
       "    <tr>\n",
       "      <th>2</th>\n",
       "      <td>692432098309705728</td>\n",
       "      <td>#Salon #Tcot Venezuela doctors fume at officia...</td>\n",
       "    </tr>\n",
       "    <tr>\n",
       "      <th>3</th>\n",
       "      <td>663300853479018496</td>\n",
       "      <td>@tweetbeinghuman Men work tirelessly without t...</td>\n",
       "    </tr>\n",
       "    <tr>\n",
       "      <th>4</th>\n",
       "      <td>660180643637260288</td>\n",
       "      <td>#Homophobia Gay priest: The Church makes the l...</td>\n",
       "    </tr>\n",
       "  </tbody>\n",
       "</table>\n",
       "</div>"
      ],
      "text/plain": [
       "             tweet_id                                              tweet\n",
       "0  692398237689327616  #ProChoice #Abortion Faith and the 2016 Campai...\n",
       "1  660430372501499904  #HuffPost #Tcot 3 Things to Never Say to an Al...\n",
       "2  692432098309705728  #Salon #Tcot Venezuela doctors fume at officia...\n",
       "3  663300853479018496  @tweetbeinghuman Men work tirelessly without t...\n",
       "4  660180643637260288  #Homophobia Gay priest: The Church makes the l..."
      ]
     },
     "execution_count": 3,
     "metadata": {},
     "output_type": "execute_result"
    }
   ],
   "source": [
    "tweets_csv = pd.read_csv(\"data\\\\data_tweets.csv\", header=0, delimiter=\",bbbbbbbbbbb\", quoting=3)\n",
    "\n",
    "for i in range(len(tweets_csv)):\n",
    "    s = tweets_csv.iloc[i,1]\n",
    "    s = s[1:-1]\n",
    "    tweets_csv.iloc[i,1] = s\n",
    "\n",
    "tweets_csv.head()"
   ]
  },
  {
   "cell_type": "code",
   "execution_count": 4,
   "metadata": {},
   "outputs": [
    {
     "data": {
      "text/html": [
       "<div>\n",
       "<style scoped>\n",
       "    .dataframe tbody tr th:only-of-type {\n",
       "        vertical-align: middle;\n",
       "    }\n",
       "\n",
       "    .dataframe tbody tr th {\n",
       "        vertical-align: top;\n",
       "    }\n",
       "\n",
       "    .dataframe thead th {\n",
       "        text-align: right;\n",
       "    }\n",
       "</style>\n",
       "<table border=\"1\" class=\"dataframe\">\n",
       "  <thead>\n",
       "    <tr style=\"text-align: right;\">\n",
       "      <th></th>\n",
       "      <th>index</th>\n",
       "      <th>tweet_id</th>\n",
       "      <th>tweet</th>\n",
       "      <th>user_id</th>\n",
       "      <th>label</th>\n",
       "    </tr>\n",
       "  </thead>\n",
       "  <tbody>\n",
       "    <tr>\n",
       "      <th>0</th>\n",
       "      <td>0</td>\n",
       "      <td>692398237689327616</td>\n",
       "      <td>#ProChoice #Abortion Faith and the 2016 Campai...</td>\n",
       "      <td>user_11</td>\n",
       "      <td>aggressor</td>\n",
       "    </tr>\n",
       "    <tr>\n",
       "      <th>1</th>\n",
       "      <td>1</td>\n",
       "      <td>660430372501499904</td>\n",
       "      <td>#HuffPost #Tcot 3 Things to Never Say to an Al...</td>\n",
       "      <td>user_8</td>\n",
       "      <td>aggressor</td>\n",
       "    </tr>\n",
       "    <tr>\n",
       "      <th>2</th>\n",
       "      <td>2</td>\n",
       "      <td>692432098309705728</td>\n",
       "      <td>#Salon #Tcot Venezuela doctors fume at officia...</td>\n",
       "      <td>user_11</td>\n",
       "      <td>aggressor</td>\n",
       "    </tr>\n",
       "    <tr>\n",
       "      <th>3</th>\n",
       "      <td>3</td>\n",
       "      <td>663300853479018496</td>\n",
       "      <td>@tweetbeinghuman Men work tirelessly without t...</td>\n",
       "      <td>user_2</td>\n",
       "      <td>aggressor</td>\n",
       "    </tr>\n",
       "    <tr>\n",
       "      <th>4</th>\n",
       "      <td>4</td>\n",
       "      <td>660180643637260288</td>\n",
       "      <td>#Homophobia Gay priest: The Church makes the l...</td>\n",
       "      <td>user_8</td>\n",
       "      <td>aggressor</td>\n",
       "    </tr>\n",
       "  </tbody>\n",
       "</table>\n",
       "</div>"
      ],
      "text/plain": [
       "   index            tweet_id  \\\n",
       "0      0  692398237689327616   \n",
       "1      1  660430372501499904   \n",
       "2      2  692432098309705728   \n",
       "3      3  663300853479018496   \n",
       "4      4  660180643637260288   \n",
       "\n",
       "                                               tweet  user_id      label  \n",
       "0  #ProChoice #Abortion Faith and the 2016 Campai...  user_11  aggressor  \n",
       "1  #HuffPost #Tcot 3 Things to Never Say to an Al...   user_8  aggressor  \n",
       "2  #Salon #Tcot Venezuela doctors fume at officia...  user_11  aggressor  \n",
       "3  @tweetbeinghuman Men work tirelessly without t...   user_2  aggressor  \n",
       "4  #Homophobia Gay priest: The Church makes the l...   user_8  aggressor  "
      ]
     },
     "execution_count": 4,
     "metadata": {},
     "output_type": "execute_result"
    }
   ],
   "source": [
    "merged = tweets_csv.merge(labels_csv, on='tweet_id')\n",
    "merged = merged.drop_duplicates()\n",
    "merged = merged.reset_index(drop=True)\n",
    "\n",
    "# remove spams\n",
    "merged = merged[merged.label != 'spammer']\n",
    "merged = merged.reset_index(drop=False)\n",
    "merged.head()"
   ]
  },
  {
   "cell_type": "code",
   "execution_count": 5,
   "metadata": {},
   "outputs": [],
   "source": [
    "tweets_list = merged['tweet'].tolist()\n",
    "labels_list = merged['label'].tolist()\n",
    "\n",
    "max_wordNum = 0\n",
    "for tweet in tweets_list:\n",
    "    tweet_splitted = tweet.split()\n",
    "    if len(tweet_splitted) > max_wordNum:\n",
    "        max_wordNum = len(tweet_splitted)"
   ]
  },
  {
   "cell_type": "code",
   "execution_count": 6,
   "metadata": {},
   "outputs": [
    {
     "name": "stdout",
     "output_type": "stream",
     "text": [
      "WARNING:tensorflow:From <ipython-input-6-580c4f71fb09>:1: VocabularyProcessor.__init__ (from tensorflow.contrib.learn.python.learn.preprocessing.text) is deprecated and will be removed in a future version.\n",
      "Instructions for updating:\n",
      "Please use tensorflow/transform or tf.data.\n",
      "WARNING:tensorflow:From C:\\Users\\Mahdi\\Anaconda3\\lib\\site-packages\\tensorflow\\contrib\\learn\\python\\learn\\preprocessing\\text.py:154: CategoricalVocabulary.__init__ (from tensorflow.contrib.learn.python.learn.preprocessing.categorical_vocabulary) is deprecated and will be removed in a future version.\n",
      "Instructions for updating:\n",
      "Please use tensorflow/transform or tf.data.\n",
      "WARNING:tensorflow:From C:\\Users\\Mahdi\\Anaconda3\\lib\\site-packages\\tensorflow\\contrib\\learn\\python\\learn\\preprocessing\\text.py:170: tokenizer (from tensorflow.contrib.learn.python.learn.preprocessing.text) is deprecated and will be removed in a future version.\n",
      "Instructions for updating:\n",
      "Please use tensorflow/transform or tf.data.\n"
     ]
    }
   ],
   "source": [
    "vocab_processor = learn.preprocessing.VocabularyProcessor(max_wordNum)\n",
    "vocab_processor.fit_transform(tweets_list)\n",
    "vocab_dict = vocab_processor.vocabulary_._mapping"
   ]
  },
  {
   "cell_type": "code",
   "execution_count": 7,
   "metadata": {},
   "outputs": [],
   "source": [
    "def pre_trained_embedding(dictionary,filename):\n",
    "\n",
    "    embeddings_index = {}\n",
    "    f = open(filename, encoding=\"utf8\")\n",
    "    for line in f:\n",
    "        values = line.split()\n",
    "        word = values[0]\n",
    "        coefs = np.asarray(values[1:], dtype='float32')\n",
    "        embeddings_index[word] = coefs\n",
    "    f.close()\n",
    "\n",
    "    #print('Found %s word vectors.' % len(embeddings_index))\n",
    "\n",
    "    embedding_matrix = np.zeros((len(dictionary), 200))\n",
    "    for word, i in dictionary.items():\n",
    "        embedding_vector = embeddings_index.get(word)\n",
    "        if embedding_vector is not None:\n",
    "        # words not found in embedding index will be all-zeros.\n",
    "            embedding_matrix[i] = embedding_vector\n",
    "    return embedding_matrix"
   ]
  },
  {
   "cell_type": "code",
   "execution_count": 8,
   "metadata": {},
   "outputs": [],
   "source": [
    "M_pre_train=pre_trained_embedding(vocab_dict,'glove.twitter.27B\\\\glove.twitter.27B.200d.txt')"
   ]
  },
  {
   "cell_type": "code",
   "execution_count": 9,
   "metadata": {},
   "outputs": [],
   "source": [
    "X = np.array(list(vocab_processor.transform(tweets_list)))\n",
    "\n",
    "s = pd.Series(labels_list)\n",
    "Y = np.array(pd.get_dummies(s))\n",
    "\n",
    "X_train,X_test,y_train,y_test=train_test_split(X,Y,test_size=0.25)\n",
    "X_train,X_valid,y_train,y_valid=train_test_split(X_train,y_train,test_size=0.333)"
   ]
  },
  {
   "cell_type": "code",
   "execution_count": 10,
   "metadata": {},
   "outputs": [
    {
     "name": "stdout",
     "output_type": "stream",
     "text": [
      "_________________________________________________________________\n",
      "Layer (type)                 Output Shape              Param #   \n",
      "=================================================================\n",
      "Embedding (Embedding)        (None, 30, 200)           3074600   \n",
      "_________________________________________________________________\n",
      "LSTM (LSTM)                  (None, 100)               120400    \n",
      "_________________________________________________________________\n",
      "Hidden_Layer_1 (Dense)       (None, 20)                2020      \n",
      "_________________________________________________________________\n",
      "Softmax_Layer (Dense)        (None, 3)                 63        \n",
      "=================================================================\n",
      "Total params: 3,197,083\n",
      "Trainable params: 3,197,083\n",
      "Non-trainable params: 0\n",
      "_________________________________________________________________\n",
      "None\n"
     ]
    }
   ],
   "source": [
    "embedding_vecor_length = 200\n",
    "class_count = Y.shape[1]\n",
    "\n",
    "model = Sequential()\n",
    "model.add(Embedding(len(vocab_dict),embedding_vecor_length,weights=[M_pre_train],input_shape=(max_wordNum,),trainable=True, name='Embedding'))\n",
    "model.add(LSTM(100,return_sequences=False,name='LSTM'))\n",
    "model.add(Dense(20,activation='relu',name='Hidden_Layer_1'))\n",
    "model.add(Dense(class_count, activation='softmax', name='Softmax_Layer'))\n",
    "\n",
    "model.compile(loss='categorical_crossentropy', optimizer='adam', metrics=['accuracy'])\n",
    "print (model.summary())"
   ]
  },
  {
   "cell_type": "code",
   "execution_count": 11,
   "metadata": {},
   "outputs": [
    {
     "name": "stdout",
     "output_type": "stream",
     "text": [
      "Train on 1734 samples, validate on 867 samples\n",
      "Epoch 1/50\n",
      "1734/1734 [==============================] - 4s 2ms/step - loss: 0.6874 - acc: 0.9164 - val_loss: 0.1117 - val_acc: 0.9804\n",
      "Epoch 2/50\n",
      "1734/1734 [==============================] - 3s 2ms/step - loss: 0.1548 - acc: 0.9712 - val_loss: 0.1083 - val_acc: 0.9804\n",
      "Epoch 3/50\n",
      "1734/1734 [==============================] - 3s 2ms/step - loss: 0.1465 - acc: 0.9712 - val_loss: 0.1084 - val_acc: 0.9804\n",
      "Epoch 4/50\n",
      "1734/1734 [==============================] - 3s 2ms/step - loss: 0.1457 - acc: 0.9712 - val_loss: 0.1065 - val_acc: 0.9804\n",
      "Epoch 5/50\n",
      "1734/1734 [==============================] - 3s 2ms/step - loss: 0.1450 - acc: 0.9712 - val_loss: 0.1076 - val_acc: 0.9804\n",
      "Epoch 6/50\n",
      "1734/1734 [==============================] - 3s 2ms/step - loss: 0.1449 - acc: 0.9712 - val_loss: 0.1059 - val_acc: 0.9804\n",
      "Epoch 7/50\n",
      "1734/1734 [==============================] - 3s 2ms/step - loss: 0.1455 - acc: 0.9712 - val_loss: 0.1110 - val_acc: 0.9804\n",
      "Epoch 8/50\n",
      "1734/1734 [==============================] - 3s 2ms/step - loss: 0.1448 - acc: 0.9712 - val_loss: 0.1058 - val_acc: 0.9804\n",
      "Epoch 9/50\n",
      "1734/1734 [==============================] - 3s 2ms/step - loss: 0.1448 - acc: 0.9712 - val_loss: 0.1094 - val_acc: 0.9804\n",
      "Epoch 10/50\n",
      "1734/1734 [==============================] - 3s 2ms/step - loss: 0.1429 - acc: 0.9717 - val_loss: 0.1059 - val_acc: 0.9804\n",
      "Epoch 11/50\n",
      "1734/1734 [==============================] - 3s 2ms/step - loss: 0.1428 - acc: 0.9717 - val_loss: 0.1072 - val_acc: 0.9804\n",
      "Epoch 12/50\n",
      "1734/1734 [==============================] - 3s 2ms/step - loss: 0.1417 - acc: 0.9717 - val_loss: 0.1059 - val_acc: 0.9804\n",
      "Epoch 13/50\n",
      "1734/1734 [==============================] - 3s 2ms/step - loss: 0.1412 - acc: 0.9717 - val_loss: 0.1034 - val_acc: 0.9804\n",
      "Epoch 14/50\n",
      "1734/1734 [==============================] - 3s 2ms/step - loss: 0.1372 - acc: 0.9717 - val_loss: 0.0850 - val_acc: 0.9850\n",
      "Epoch 15/50\n",
      "1734/1734 [==============================] - 3s 2ms/step - loss: 0.1107 - acc: 0.9746 - val_loss: 0.0803 - val_acc: 0.9850\n",
      "Epoch 16/50\n",
      "1734/1734 [==============================] - 3s 2ms/step - loss: 0.0932 - acc: 0.9746 - val_loss: 0.0754 - val_acc: 0.9850\n",
      "Epoch 17/50\n",
      "1734/1734 [==============================] - 3s 2ms/step - loss: 0.0518 - acc: 0.9746 - val_loss: 0.1071 - val_acc: 0.9596\n",
      "Epoch 18/50\n",
      "1734/1734 [==============================] - 3s 2ms/step - loss: 0.0364 - acc: 0.9902 - val_loss: 0.0940 - val_acc: 0.9815\n",
      "Epoch 19/50\n",
      "1734/1734 [==============================] - 3s 2ms/step - loss: 0.0338 - acc: 0.9908 - val_loss: 0.0986 - val_acc: 0.9804\n",
      "Epoch 20/50\n",
      "1734/1734 [==============================] - 3s 2ms/step - loss: 0.0256 - acc: 0.9908 - val_loss: 0.1169 - val_acc: 0.9746\n",
      "Epoch 21/50\n",
      "1734/1734 [==============================] - 3s 2ms/step - loss: 0.0633 - acc: 0.9764 - val_loss: 0.0919 - val_acc: 0.9850\n",
      "Epoch 00021: early stopping\n"
     ]
    }
   ],
   "source": [
    "callbacks=[EarlyStopping(monitor='val_loss',patience=5,verbose=1)]\n",
    "\n",
    "history = model.fit(X_train,y_train,\n",
    "                    validation_data=[X_valid,y_valid],\n",
    "                    epochs=50, \n",
    "                    batch_size=100\n",
    "                    ,callbacks=callbacks\n",
    "                   )"
   ]
  },
  {
   "cell_type": "code",
   "execution_count": 12,
   "metadata": {},
   "outputs": [
    {
     "data": {
      "image/png": "[encoded data removed]",
      "text/plain": [
       "<matplotlib.figure.Figure at 0x14aaffca390>"
      ]
     },
     "metadata": {
      "needs_background": "light"
     },
     "output_type": "display_data"
    }
   ],
   "source": [
    "plt.figure()\n",
    "plt.plot(history.history['loss'])\n",
    "plt.plot(history.history['val_loss'])\n",
    "plt.title('train loss vs validation loss')\n",
    "plt.ylabel('loss')\n",
    "plt.xlabel('epoch')\n",
    "plt.legend(['train','validation'], loc='upper right')\n",
    "plt.show()"
   ]
  },
  {
   "cell_type": "code",
   "execution_count": 13,
   "metadata": {},
   "outputs": [
    {
     "name": "stdout",
     "output_type": "stream",
     "text": [
      "Test loss: 0.12574404951030482\n",
      "Test accuracy: 0.9815668202764977\n"
     ]
    }
   ],
   "source": [
    "score = model.evaluate(X_test, y_test, verbose=0)\n",
    "print('Test loss:', score[0])\n",
    "print('Test accuracy:', score[1])"
   ]
  },
  {
   "cell_type": "code",
   "execution_count": null,
   "metadata": {},
   "outputs": [],
   "source": []
  }
 ],
 "metadata": {
  "kernelspec": {
   "display_name": "Python 3",
   "language": "python",
   "name": "python3"
  },
  "language_info": {
   "codemirror_mode": {
    "name": "ipython",
    "version": 3
   },
   "file_extension": ".py",
   "mimetype": "text/x-python",
   "name": "python",
   "nbconvert_exporter": "python",
   "pygments_lexer": "ipython3",
   "version": "3.6.4"
  }
 },
 "nbformat": 4,
 "nbformat_minor": 2
}
