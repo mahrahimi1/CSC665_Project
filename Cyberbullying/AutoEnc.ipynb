{
 "cells": [
  {
   "cell_type": "code",
   "execution_count": 1,
   "metadata": {},
   "outputs": [
    {
     "name": "stderr",
     "output_type": "stream",
     "text": [
      "C:\\Users\\Mahdi\\Anaconda3\\lib\\site-packages\\h5py\\__init__.py:36: FutureWarning: Conversion of the second argument of issubdtype from `float` to `np.floating` is deprecated. In future, it will be treated as `np.float64 == np.dtype(float).type`.\n",
      "  from ._conv import register_converters as _register_converters\n",
      "Using TensorFlow backend.\n",
      "C:\\Users\\Mahdi\\Anaconda3\\lib\\site-packages\\sklearn\\cross_validation.py:41: DeprecationWarning: This module was deprecated in version 0.18 in favor of the model_selection module into which all the refactored classes and functions are moved. Also note that the interface of the new CV iterators are different from that of this module. This module will be removed in 0.20.\n",
      "  \"This module will be removed in 0.20.\", DeprecationWarning)\n"
     ]
    }
   ],
   "source": [
    "import keras\n",
    "import numpy as np\n",
    "from keras import regularizers\n",
    "from keras.preprocessing.text import Tokenizer\n",
    "from keras.preprocessing.sequence import pad_sequences\n",
    "from keras.models import Sequential\n",
    "from keras.layers import *\n",
    "from keras.layers.embeddings import Embedding\n",
    "import matplotlib\n",
    "#matplotlib.use('Agg')\n",
    "#import matplotlib.pyplot as plt\n",
    "from matplotlib import pyplot as plt\n",
    "\n",
    "#import nltk\n",
    "#from nltk.corpus import stopwords\n",
    "#from nltk.stem import SnowballStemmer\n",
    "import re\n",
    "import string\n",
    "import numpy as np\n",
    "import pandas as pd\n",
    "from sklearn.manifold import TSNE\n",
    "import tensorflow as tf\n",
    "from tensorflow.contrib import rnn\n",
    "from sklearn.cross_validation import train_test_split\n",
    "from tensorflow.contrib import learn\n",
    "import os\n",
    "from collections import defaultdict\n",
    "from keras.callbacks import EarlyStopping\n",
    "from keras.layers import Input, LSTM, RepeatVector\n",
    "from keras.models import Model\n",
    "#from gensim import corpora\n",
    "#pd.set_option('display.max_rows', 1000000000)"
   ]
  },
  {
   "cell_type": "code",
   "execution_count": 2,
   "metadata": {},
   "outputs": [
    {
     "data": {
      "text/html": [
       "<div>\n",
       "<style scoped>\n",
       "    .dataframe tbody tr th:only-of-type {\n",
       "        vertical-align: middle;\n",
       "    }\n",
       "\n",
       "    .dataframe tbody tr th {\n",
       "        vertical-align: top;\n",
       "    }\n",
       "\n",
       "    .dataframe thead th {\n",
       "        text-align: right;\n",
       "    }\n",
       "</style>\n",
       "<table border=\"1\" class=\"dataframe\">\n",
       "  <thead>\n",
       "    <tr style=\"text-align: right;\">\n",
       "      <th></th>\n",
       "      <th>user_id</th>\n",
       "      <th>label</th>\n",
       "      <th>tweet_id</th>\n",
       "    </tr>\n",
       "  </thead>\n",
       "  <tbody>\n",
       "    <tr>\n",
       "      <th>0</th>\n",
       "      <td>user_1</td>\n",
       "      <td>aggressor</td>\n",
       "      <td>657684957272387584</td>\n",
       "    </tr>\n",
       "    <tr>\n",
       "      <th>1</th>\n",
       "      <td>user_1</td>\n",
       "      <td>aggressor</td>\n",
       "      <td>657695791134416896</td>\n",
       "    </tr>\n",
       "    <tr>\n",
       "      <th>2</th>\n",
       "      <td>user_1</td>\n",
       "      <td>aggressor</td>\n",
       "      <td>656838718666493952</td>\n",
       "    </tr>\n",
       "    <tr>\n",
       "      <th>3</th>\n",
       "      <td>user_1</td>\n",
       "      <td>aggressor</td>\n",
       "      <td>657193317709565952</td>\n",
       "    </tr>\n",
       "    <tr>\n",
       "      <th>4</th>\n",
       "      <td>user_1</td>\n",
       "      <td>aggressor</td>\n",
       "      <td>657688224601632768</td>\n",
       "    </tr>\n",
       "  </tbody>\n",
       "</table>\n",
       "</div>"
      ],
      "text/plain": [
       "  user_id      label            tweet_id\n",
       "0  user_1  aggressor  657684957272387584\n",
       "1  user_1  aggressor  657695791134416896\n",
       "2  user_1  aggressor  656838718666493952\n",
       "3  user_1  aggressor  657193317709565952\n",
       "4  user_1  aggressor  657688224601632768"
      ]
     },
     "execution_count": 2,
     "metadata": {},
     "output_type": "execute_result"
    }
   ],
   "source": [
    "labels_csv = pd.read_csv(\"data\\\\data_singl_tweet_per_line.csv\")\n",
    "labels_csv.head()"
   ]
  },
  {
   "cell_type": "code",
   "execution_count": 3,
   "metadata": {},
   "outputs": [
    {
     "name": "stderr",
     "output_type": "stream",
     "text": [
      "C:\\Users\\Mahdi\\Anaconda3\\lib\\site-packages\\ipykernel_launcher.py:1: ParserWarning: Falling back to the 'python' engine because the 'c' engine does not support regex separators (separators > 1 char and different from '\\s+' are interpreted as regex); you can avoid this warning by specifying engine='python'.\n",
      "  \"\"\"Entry point for launching an IPython kernel.\n"
     ]
    },
    {
     "data": {
      "text/html": [
       "<div>\n",
       "<style scoped>\n",
       "    .dataframe tbody tr th:only-of-type {\n",
       "        vertical-align: middle;\n",
       "    }\n",
       "\n",
       "    .dataframe tbody tr th {\n",
       "        vertical-align: top;\n",
       "    }\n",
       "\n",
       "    .dataframe thead th {\n",
       "        text-align: right;\n",
       "    }\n",
       "</style>\n",
       "<table border=\"1\" class=\"dataframe\">\n",
       "  <thead>\n",
       "    <tr style=\"text-align: right;\">\n",
       "      <th></th>\n",
       "      <th>tweet_id</th>\n",
       "      <th>tweet</th>\n",
       "    </tr>\n",
       "  </thead>\n",
       "  <tbody>\n",
       "    <tr>\n",
       "      <th>0</th>\n",
       "      <td>692398237689327616</td>\n",
       "      <td>#ProChoice #Abortion Faith and the 2016 Campai...</td>\n",
       "    </tr>\n",
       "    <tr>\n",
       "      <th>1</th>\n",
       "      <td>660430372501499904</td>\n",
       "      <td>#HuffPost #Tcot 3 Things to Never Say to an Al...</td>\n",
       "    </tr>\n",
       "    <tr>\n",
       "      <th>2</th>\n",
       "      <td>692432098309705728</td>\n",
       "      <td>#Salon #Tcot Venezuela doctors fume at officia...</td>\n",
       "    </tr>\n",
       "    <tr>\n",
       "      <th>3</th>\n",
       "      <td>663300853479018496</td>\n",
       "      <td>@tweetbeinghuman Men work tirelessly without t...</td>\n",
       "    </tr>\n",
       "    <tr>\n",
       "      <th>4</th>\n",
       "      <td>660180643637260288</td>\n",
       "      <td>#Homophobia Gay priest: The Church makes the l...</td>\n",
       "    </tr>\n",
       "  </tbody>\n",
       "</table>\n",
       "</div>"
      ],
      "text/plain": [
       "             tweet_id                                              tweet\n",
       "0  692398237689327616  #ProChoice #Abortion Faith and the 2016 Campai...\n",
       "1  660430372501499904  #HuffPost #Tcot 3 Things to Never Say to an Al...\n",
       "2  692432098309705728  #Salon #Tcot Venezuela doctors fume at officia...\n",
       "3  663300853479018496  @tweetbeinghuman Men work tirelessly without t...\n",
       "4  660180643637260288  #Homophobia Gay priest: The Church makes the l..."
      ]
     },
     "execution_count": 3,
     "metadata": {},
     "output_type": "execute_result"
    }
   ],
   "source": [
    "tweets_csv = pd.read_csv(\"data\\\\data_tweets.csv\", header=0, delimiter=\",bbbbbbbbbbb\", quoting=3)\n",
    "\n",
    "for i in range(len(tweets_csv)):\n",
    "    s = tweets_csv.iloc[i,1]\n",
    "    s = s[1:-1]\n",
    "    tweets_csv.iloc[i,1] = s\n",
    "\n",
    "tweets_csv.head()"
   ]
  },
  {
   "cell_type": "code",
   "execution_count": 4,
   "metadata": {},
   "outputs": [
    {
     "data": {
      "text/html": [
       "<div>\n",
       "<style scoped>\n",
       "    .dataframe tbody tr th:only-of-type {\n",
       "        vertical-align: middle;\n",
       "    }\n",
       "\n",
       "    .dataframe tbody tr th {\n",
       "        vertical-align: top;\n",
       "    }\n",
       "\n",
       "    .dataframe thead th {\n",
       "        text-align: right;\n",
       "    }\n",
       "</style>\n",
       "<table border=\"1\" class=\"dataframe\">\n",
       "  <thead>\n",
       "    <tr style=\"text-align: right;\">\n",
       "      <th></th>\n",
       "      <th>index</th>\n",
       "      <th>tweet_id</th>\n",
       "      <th>tweet</th>\n",
       "      <th>user_id</th>\n",
       "      <th>label</th>\n",
       "    </tr>\n",
       "  </thead>\n",
       "  <tbody>\n",
       "    <tr>\n",
       "      <th>0</th>\n",
       "      <td>0</td>\n",
       "      <td>692398237689327616</td>\n",
       "      <td>#ProChoice #Abortion Faith and the 2016 Campai...</td>\n",
       "      <td>user_11</td>\n",
       "      <td>aggressor</td>\n",
       "    </tr>\n",
       "    <tr>\n",
       "      <th>1</th>\n",
       "      <td>1</td>\n",
       "      <td>660430372501499904</td>\n",
       "      <td>#HuffPost #Tcot 3 Things to Never Say to an Al...</td>\n",
       "      <td>user_8</td>\n",
       "      <td>aggressor</td>\n",
       "    </tr>\n",
       "    <tr>\n",
       "      <th>2</th>\n",
       "      <td>2</td>\n",
       "      <td>692432098309705728</td>\n",
       "      <td>#Salon #Tcot Venezuela doctors fume at officia...</td>\n",
       "      <td>user_11</td>\n",
       "      <td>aggressor</td>\n",
       "    </tr>\n",
       "    <tr>\n",
       "      <th>3</th>\n",
       "      <td>3</td>\n",
       "      <td>663300853479018496</td>\n",
       "      <td>@tweetbeinghuman Men work tirelessly without t...</td>\n",
       "      <td>user_2</td>\n",
       "      <td>aggressor</td>\n",
       "    </tr>\n",
       "    <tr>\n",
       "      <th>4</th>\n",
       "      <td>4</td>\n",
       "      <td>660180643637260288</td>\n",
       "      <td>#Homophobia Gay priest: The Church makes the l...</td>\n",
       "      <td>user_8</td>\n",
       "      <td>aggressor</td>\n",
       "    </tr>\n",
       "  </tbody>\n",
       "</table>\n",
       "</div>"
      ],
      "text/plain": [
       "   index            tweet_id  \\\n",
       "0      0  692398237689327616   \n",
       "1      1  660430372501499904   \n",
       "2      2  692432098309705728   \n",
       "3      3  663300853479018496   \n",
       "4      4  660180643637260288   \n",
       "\n",
       "                                               tweet  user_id      label  \n",
       "0  #ProChoice #Abortion Faith and the 2016 Campai...  user_11  aggressor  \n",
       "1  #HuffPost #Tcot 3 Things to Never Say to an Al...   user_8  aggressor  \n",
       "2  #Salon #Tcot Venezuela doctors fume at officia...  user_11  aggressor  \n",
       "3  @tweetbeinghuman Men work tirelessly without t...   user_2  aggressor  \n",
       "4  #Homophobia Gay priest: The Church makes the l...   user_8  aggressor  "
      ]
     },
     "execution_count": 4,
     "metadata": {},
     "output_type": "execute_result"
    }
   ],
   "source": [
    "merged = tweets_csv.merge(labels_csv, on='tweet_id')\n",
    "merged = merged.drop_duplicates()\n",
    "merged = merged.reset_index(drop=True)\n",
    "\n",
    "# remove spams\n",
    "merged = merged[merged.label != 'spammer']\n",
    "merged = merged.reset_index(drop=False)\n",
    "merged.head()"
   ]
  },
  {
   "cell_type": "code",
   "execution_count": 5,
   "metadata": {},
   "outputs": [],
   "source": [
    "tweets_list = merged['tweet'].tolist()\n",
    "labels_list = merged['label'].tolist()\n",
    "\n",
    "max_wordNum = 0\n",
    "for tweet in tweets_list:\n",
    "    tweet_splitted = tweet.split()\n",
    "    if len(tweet_splitted) > max_wordNum:\n",
    "        max_wordNum = len(tweet_splitted)"
   ]
  },
  {
   "cell_type": "code",
   "execution_count": 6,
   "metadata": {},
   "outputs": [
    {
     "name": "stdout",
     "output_type": "stream",
     "text": [
      "WARNING:tensorflow:From <ipython-input-6-580c4f71fb09>:1: VocabularyProcessor.__init__ (from tensorflow.contrib.learn.python.learn.preprocessing.text) is deprecated and will be removed in a future version.\n",
      "Instructions for updating:\n",
      "Please use tensorflow/transform or tf.data.\n",
      "WARNING:tensorflow:From C:\\Users\\Mahdi\\Anaconda3\\lib\\site-packages\\tensorflow\\contrib\\learn\\python\\learn\\preprocessing\\text.py:154: CategoricalVocabulary.__init__ (from tensorflow.contrib.learn.python.learn.preprocessing.categorical_vocabulary) is deprecated and will be removed in a future version.\n",
      "Instructions for updating:\n",
      "Please use tensorflow/transform or tf.data.\n",
      "WARNING:tensorflow:From C:\\Users\\Mahdi\\Anaconda3\\lib\\site-packages\\tensorflow\\contrib\\learn\\python\\learn\\preprocessing\\text.py:170: tokenizer (from tensorflow.contrib.learn.python.learn.preprocessing.text) is deprecated and will be removed in a future version.\n",
      "Instructions for updating:\n",
      "Please use tensorflow/transform or tf.data.\n"
     ]
    }
   ],
   "source": [
    "vocab_processor = learn.preprocessing.VocabularyProcessor(max_wordNum)\n",
    "vocab_processor.fit_transform(tweets_list)\n",
    "vocab_dict = vocab_processor.vocabulary_._mapping"
   ]
  },
  {
   "cell_type": "code",
   "execution_count": 7,
   "metadata": {},
   "outputs": [],
   "source": [
    "def pre_trained_embedding(dictionary,filename):\n",
    "\n",
    "    embeddings_index = {}\n",
    "    f = open(filename, encoding=\"utf8\")\n",
    "    for line in f:\n",
    "        values = line.split()\n",
    "        word = values[0]\n",
    "        coefs = np.asarray(values[1:], dtype='float32')\n",
    "        embeddings_index[word] = coefs\n",
    "    f.close()\n",
    "\n",
    "    #print('Found %s word vectors.' % len(embeddings_index))\n",
    "\n",
    "    embedding_matrix = np.zeros((len(dictionary), 200))\n",
    "    for word, i in dictionary.items():\n",
    "        embedding_vector = embeddings_index.get(word)\n",
    "        if embedding_vector is not None:\n",
    "        # words not found in embedding index will be all-zeros.\n",
    "            embedding_matrix[i] = embedding_vector\n",
    "    return embedding_matrix"
   ]
  },
  {
   "cell_type": "code",
   "execution_count": 8,
   "metadata": {},
   "outputs": [],
   "source": [
    "M_pre_train=pre_trained_embedding(vocab_dict,'glove.twitter.27B\\\\glove.twitter.27B.200d.txt')"
   ]
  },
  {
   "cell_type": "code",
   "execution_count": 9,
   "metadata": {},
   "outputs": [],
   "source": [
    "X = np.array(list(vocab_processor.transform(tweets_list)))\n",
    "\n",
    "s = pd.Series(labels_list)\n",
    "Y = np.array(pd.get_dummies(s))\n",
    "\n",
    "X_train,X_test,y_train,y_test=train_test_split(X,Y,test_size=0.25)\n",
    "X_train,X_valid,y_train,y_valid=train_test_split(X_train,y_train,test_size=0.333)"
   ]
  },
  {
   "cell_type": "code",
   "execution_count": 128,
   "metadata": {},
   "outputs": [],
   "source": [
    "embedding_vecor_length = 200\n",
    "\n",
    "model_embed = Sequential()\n",
    "model_embed.add(Embedding(len(vocab_dict),embedding_vecor_length,weights=[M_pre_train],\n",
    "                          input_shape=(max_wordNum,),trainable=False, name='Embedding'))\n",
    "model_embed.compile(optimizer='RMSprop', loss='mean_squared_error')\n",
    "#print (model_embed.summary())\n",
    "X_train_embedded = model_embed.predict(X_train)\n",
    "X_valid_embedded = model_embed.predict(X_valid)"
   ]
  },
  {
   "cell_type": "code",
   "execution_count": 129,
   "metadata": {},
   "outputs": [
    {
     "name": "stdout",
     "output_type": "stream",
     "text": [
      "_________________________________________________________________\n",
      "Layer (type)                 Output Shape              Param #   \n",
      "=================================================================\n",
      "input_30 (InputLayer)        (None, 30, 200)           0         \n",
      "_________________________________________________________________\n",
      "lstm_68 (LSTM)               (None, 100)               120400    \n",
      "_________________________________________________________________\n",
      "repeat_vector_29 (RepeatVect (None, 30, 100)           0         \n",
      "_________________________________________________________________\n",
      "lstm_69 (LSTM)               (None, 30, 200)           240800    \n",
      "=================================================================\n",
      "Total params: 361,200\n",
      "Trainable params: 361,200\n",
      "Non-trainable params: 0\n",
      "_________________________________________________________________\n",
      "None\n"
     ]
    }
   ],
   "source": [
    "#embedding_vecor_length = 200\n",
    "latent_dim = 100\n",
    "\n",
    "inputs = Input(shape=(max_wordNum,embedding_vecor_length))\n",
    "\n",
    "#embedding = Embedding(len(vocab_dict),embedding_vecor_length,weights=[M_pre_train],trainable=True)(inputs)\n",
    "\n",
    "encoded = LSTM(latent_dim)(inputs) #(embedding)\n",
    "\n",
    "decoded1 = RepeatVector(max_wordNum)(encoded)\n",
    "decoded2 = LSTM(embedding_vecor_length, return_sequences=True)(decoded1)\n",
    "#decoded3 = LSTM(max_wordNum, return_sequences=False)(decoded2)\n",
    "#decoded3 = TimeDistributed(Dense(1))(decoded2) \n",
    "#decoded3 = Reshape((max_wordNum,))(decoded3)\n",
    "\n",
    "sequence_autoencoder = Model(inputs, decoded2)\n",
    "\n",
    "encoder = Model(inputs, encoded)\n",
    "\n",
    "sequence_autoencoder.compile(optimizer='RMSprop', loss='mean_squared_error')\n",
    "#sequence_autoencoder.compile(loss='binary_crossentropy', optimizer='adam')\n",
    "\n",
    "\n",
    "print (sequence_autoencoder.summary())"
   ]
  },
  {
   "cell_type": "code",
   "execution_count": 130,
   "metadata": {},
   "outputs": [
    {
     "name": "stdout",
     "output_type": "stream",
     "text": [
      "Train on 1734 samples, validate on 867 samples\n",
      "Epoch 1/20\n",
      "1734/1734 [==============================] - 14s 8ms/step - loss: 0.0630 - val_loss: 0.0591\n",
      "Epoch 2/20\n",
      "1734/1734 [==============================] - 10s 6ms/step - loss: 0.0598 - val_loss: 0.0584\n",
      "Epoch 3/20\n",
      "1734/1734 [==============================] - 10s 6ms/step - loss: 0.0594 - val_loss: 0.0581\n",
      "Epoch 4/20\n",
      "1734/1734 [==============================] - 10s 6ms/step - loss: 0.0591 - val_loss: 0.0580\n",
      "Epoch 5/20\n",
      "1734/1734 [==============================] - 10s 6ms/step - loss: 0.0590 - val_loss: 0.0578\n",
      "Epoch 6/20\n",
      "1734/1734 [==============================] - 10s 6ms/step - loss: 0.0589 - val_loss: 0.0578\n",
      "Epoch 7/20\n",
      "1734/1734 [==============================] - 9s 5ms/step - loss: 0.0588 - val_loss: 0.0578\n",
      "Epoch 8/20\n",
      "1734/1734 [==============================] - 9s 5ms/step - loss: 0.0587 - val_loss: 0.0577\n",
      "Epoch 9/20\n",
      "1734/1734 [==============================] - 9s 5ms/step - loss: 0.0584 - val_loss: 0.0572\n",
      "Epoch 10/20\n",
      "1734/1734 [==============================] - 9s 5ms/step - loss: 0.0582 - val_loss: 0.0575\n",
      "Epoch 11/20\n",
      "1734/1734 [==============================] - 9s 5ms/step - loss: 0.0580 - val_loss: 0.0566\n",
      "Epoch 12/20\n",
      "1734/1734 [==============================] - 9s 5ms/step - loss: 0.0579 - val_loss: 0.0567\n",
      "Epoch 13/20\n",
      "1734/1734 [==============================] - 9s 5ms/step - loss: 0.0577 - val_loss: 0.0561\n",
      "Epoch 14/20\n",
      "1734/1734 [==============================] - 9s 5ms/step - loss: 0.0575 - val_loss: 0.0563\n",
      "Epoch 15/20\n",
      "1734/1734 [==============================] - 9s 5ms/step - loss: 0.0573 - val_loss: 0.0572\n",
      "Epoch 16/20\n",
      "1734/1734 [==============================] - 9s 5ms/step - loss: 0.0573 - val_loss: 0.0558\n",
      "Epoch 17/20\n",
      "1734/1734 [==============================] - 9s 5ms/step - loss: 0.0570 - val_loss: 0.0560\n",
      "Epoch 18/20\n",
      "1734/1734 [==============================] - 11s 6ms/step - loss: 0.0569 - val_loss: 0.0556\n",
      "Epoch 19/20\n",
      "1734/1734 [==============================] - 10s 6ms/step - loss: 0.0569 - val_loss: 0.0556\n",
      "Epoch 20/20\n",
      "1734/1734 [==============================] - 9s 5ms/step - loss: 0.0566 - val_loss: 0.0554\n"
     ]
    }
   ],
   "source": [
    "callbacks=[EarlyStopping(monitor='val_loss',patience=5,verbose=1)]\n",
    "\n",
    "autoencoder_train = sequence_autoencoder.fit(X_train_embedded, X_train_embedded,\n",
    "                            batch_size=100,\n",
    "                            epochs=20,\n",
    "                            validation_data=(X_valid_embedded, X_valid_embedded)\n",
    "                            ,callbacks=callbacks\n",
    "                            )"
   ]
  },
  {
   "cell_type": "code",
   "execution_count": 131,
   "metadata": {},
   "outputs": [
    {
     "data": {
      "image/png": "[encoded data removed]",
      "text/plain": [
       "<matplotlib.figure.Figure at 0x1573eca12e8>"
      ]
     },
     "metadata": {
      "needs_background": "light"
     },
     "output_type": "display_data"
    }
   ],
   "source": [
    "plt.figure()\n",
    "plt.plot(autoencoder_train.history['loss'])\n",
    "plt.plot(autoencoder_train.history['val_loss'])\n",
    "plt.title('train loss vs validation loss')\n",
    "plt.ylabel('loss')\n",
    "plt.xlabel('epoch')\n",
    "plt.legend(['train','validation'], loc='upper right')\n",
    "plt.show()"
   ]
  },
  {
   "cell_type": "code",
   "execution_count": 135,
   "metadata": {},
   "outputs": [
    {
     "name": "stdout",
     "output_type": "stream",
     "text": [
      "Test loss: 0.055761094707223124\n"
     ]
    }
   ],
   "source": [
    "X_test_embedded = model_embed.predict(X_test)\n",
    "score = sequence_autoencoder.evaluate(X_test_embedded, X_test_embedded, verbose=0)\n",
    "print('Test loss:', score)"
   ]
  },
  {
   "cell_type": "code",
   "execution_count": null,
   "metadata": {},
   "outputs": [],
   "source": []
  },
  {
   "cell_type": "code",
   "execution_count": 140,
   "metadata": {},
   "outputs": [
    {
     "name": "stdout",
     "output_type": "stream",
     "text": [
      "_________________________________________________________________\n",
      "Layer (type)                 Output Shape              Param #   \n",
      "=================================================================\n",
      "Hidden_Layer_1 (Dense)       (None, 20)                2020      \n",
      "_________________________________________________________________\n",
      "Softmax_Layer (Dense)        (None, 3)                 63        \n",
      "=================================================================\n",
      "Total params: 2,083\n",
      "Trainable params: 2,083\n",
      "Non-trainable params: 0\n",
      "_________________________________________________________________\n",
      "None\n"
     ]
    }
   ],
   "source": [
    "X_train_encoded = encoder.predict(X_train_embedded)\n",
    "X_valid_encoded = encoder.predict(X_valid_embedded)\n",
    "\n",
    "class_count = Y.shape[1]\n",
    "\n",
    "model = Sequential()\n",
    "model.add(Dense(20,activation='relu',name='Hidden_Layer_1', input_shape=(latent_dim,)))\n",
    "model.add(Dense(class_count, activation='softmax', name='Softmax_Layer'))\n",
    "model.compile(loss='categorical_crossentropy', optimizer='adam', metrics=['accuracy'])\n",
    "print (model.summary())"
   ]
  },
  {
   "cell_type": "code",
   "execution_count": 143,
   "metadata": {},
   "outputs": [
    {
     "name": "stdout",
     "output_type": "stream",
     "text": [
      "Train on 1734 samples, validate on 867 samples\n",
      "Epoch 1/100\n",
      "1734/1734 [==============================] - 0s 36us/step - loss: 0.1207 - acc: 0.9752 - val_loss: 0.1278 - val_acc: 0.9758\n",
      "Epoch 2/100\n",
      "1734/1734 [==============================] - 0s 32us/step - loss: 0.1203 - acc: 0.9752 - val_loss: 0.1276 - val_acc: 0.9758\n",
      "Epoch 3/100\n",
      "1734/1734 [==============================] - 0s 28us/step - loss: 0.1200 - acc: 0.9752 - val_loss: 0.1274 - val_acc: 0.9758\n",
      "Epoch 4/100\n",
      "1734/1734 [==============================] - 0s 28us/step - loss: 0.1198 - acc: 0.9752 - val_loss: 0.1274 - val_acc: 0.9758\n",
      "Epoch 5/100\n",
      "1734/1734 [==============================] - 0s 31us/step - loss: 0.1194 - acc: 0.9752 - val_loss: 0.1271 - val_acc: 0.9758\n",
      "Epoch 6/100\n",
      "1734/1734 [==============================] - 0s 29us/step - loss: 0.1194 - acc: 0.9752 - val_loss: 0.1270 - val_acc: 0.9758\n",
      "Epoch 7/100\n",
      "1734/1734 [==============================] - 0s 29us/step - loss: 0.1195 - acc: 0.9752 - val_loss: 0.1270 - val_acc: 0.9758\n",
      "Epoch 8/100\n",
      "1734/1734 [==============================] - 0s 32us/step - loss: 0.1188 - acc: 0.9752 - val_loss: 0.1270 - val_acc: 0.9758\n",
      "Epoch 9/100\n",
      "1734/1734 [==============================] - 0s 29us/step - loss: 0.1187 - acc: 0.9752 - val_loss: 0.1267 - val_acc: 0.9758\n",
      "Epoch 10/100\n",
      "1734/1734 [==============================] - 0s 28us/step - loss: 0.1184 - acc: 0.9752 - val_loss: 0.1266 - val_acc: 0.9758\n",
      "Epoch 11/100\n",
      "1734/1734 [==============================] - 0s 29us/step - loss: 0.1182 - acc: 0.9752 - val_loss: 0.1269 - val_acc: 0.9758\n",
      "Epoch 12/100\n",
      "1734/1734 [==============================] - 0s 28us/step - loss: 0.1178 - acc: 0.9752 - val_loss: 0.1267 - val_acc: 0.9758\n",
      "Epoch 13/100\n",
      "1734/1734 [==============================] - 0s 35us/step - loss: 0.1178 - acc: 0.9752 - val_loss: 0.1264 - val_acc: 0.9758\n",
      "Epoch 14/100\n",
      "1734/1734 [==============================] - 0s 33us/step - loss: 0.1175 - acc: 0.9752 - val_loss: 0.1265 - val_acc: 0.9758\n",
      "Epoch 15/100\n",
      "1734/1734 [==============================] - 0s 31us/step - loss: 0.1172 - acc: 0.9752 - val_loss: 0.1265 - val_acc: 0.9758\n",
      "Epoch 16/100\n",
      "1734/1734 [==============================] - 0s 29us/step - loss: 0.1170 - acc: 0.9752 - val_loss: 0.1265 - val_acc: 0.9758\n",
      "Epoch 17/100\n",
      "1734/1734 [==============================] - 0s 30us/step - loss: 0.1170 - acc: 0.9752 - val_loss: 0.1265 - val_acc: 0.9758\n",
      "Epoch 18/100\n",
      "1734/1734 [==============================] - 0s 29us/step - loss: 0.1166 - acc: 0.9752 - val_loss: 0.1266 - val_acc: 0.9758\n",
      "Epoch 00018: early stopping\n"
     ]
    }
   ],
   "source": [
    "callbacks=[EarlyStopping(monitor='val_loss',patience=5,verbose=1)]\n",
    "\n",
    "history = model.fit(X_train_encoded, y_train, \n",
    "                    validation_data=[X_valid_encoded,y_valid],\n",
    "                    epochs=100, \n",
    "                    batch_size=100\n",
    "                    ,callbacks=callbacks\n",
    "                   )"
   ]
  },
  {
   "cell_type": "code",
   "execution_count": 144,
   "metadata": {},
   "outputs": [
    {
     "data": {
      "image/png": "[encoded data removed]",
      "text/plain": [
       "<matplotlib.figure.Figure at 0x1573b268978>"
      ]
     },
     "metadata": {
      "needs_background": "light"
     },
     "output_type": "display_data"
    }
   ],
   "source": [
    "plt.figure()\n",
    "plt.plot(history.history['loss'])\n",
    "plt.plot(history.history['val_loss'])\n",
    "plt.title('train loss vs validation loss')\n",
    "plt.ylabel('loss')\n",
    "plt.xlabel('epoch')\n",
    "plt.legend(['train','validation'], loc='upper right')\n",
    "plt.show()"
   ]
  },
  {
   "cell_type": "code",
   "execution_count": 147,
   "metadata": {},
   "outputs": [
    {
     "name": "stdout",
     "output_type": "stream",
     "text": [
      "Test loss: 0.11104176341113957\n",
      "Test accuracy: 0.978110599078341\n"
     ]
    }
   ],
   "source": [
    "X_test_encoded = encoder.predict(X_test_embedded)\n",
    "score = model.evaluate(X_test_encoded, y_test, verbose=0)\n",
    "print('Test loss:', score[0])\n",
    "print('Test accuracy:', score[1])"
   ]
  },
  {
   "cell_type": "code",
   "execution_count": null,
   "metadata": {},
   "outputs": [],
   "source": []
  }
 ],
 "metadata": {
  "kernelspec": {
   "display_name": "Python 3",
   "language": "python",
   "name": "python3"
  },
  "language_info": {
   "codemirror_mode": {
    "name": "ipython",
    "version": 3
   },
   "file_extension": ".py",
   "mimetype": "text/x-python",
   "name": "python",
   "nbconvert_exporter": "python",
   "pygments_lexer": "ipython3",
   "version": "3.6.4"
  }
 },
 "nbformat": 4,
 "nbformat_minor": 2
}
