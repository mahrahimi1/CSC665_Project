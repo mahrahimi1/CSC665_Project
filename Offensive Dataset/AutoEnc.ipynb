{
 "cells": [
  {
   "cell_type": "code",
   "execution_count": 2,
   "metadata": {},
   "outputs": [],
   "source": [
    "import keras\n",
    "import numpy as np\n",
    "from keras import regularizers\n",
    "from keras.preprocessing.text import Tokenizer\n",
    "from keras.preprocessing.sequence import pad_sequences\n",
    "from keras.models import Sequential\n",
    "from keras.layers import *\n",
    "from keras.layers.embeddings import Embedding\n",
    "import matplotlib\n",
    "#matplotlib.use('Agg')\n",
    "#import matplotlib.pyplot as plt\n",
    "from matplotlib import pyplot as plt\n",
    "\n",
    "#import nltk\n",
    "#from nltk.corpus import stopwords\n",
    "#from nltk.stem import SnowballStemmer\n",
    "import re\n",
    "import string\n",
    "import numpy as np\n",
    "import pandas as pd\n",
    "from sklearn.manifold import TSNE\n",
    "import tensorflow as tf\n",
    "from tensorflow.contrib import rnn\n",
    "from sklearn.cross_validation import train_test_split\n",
    "from tensorflow.contrib import learn\n",
    "import os\n",
    "from collections import defaultdict\n",
    "from keras.callbacks import EarlyStopping\n",
    "from keras.layers import Input, LSTM, RepeatVector\n",
    "from keras.models import Model\n",
    "#from gensim import corpora\n",
    "#pd.set_option('display.max_rows', 1000000000)"
   ]
  },
  {
   "cell_type": "code",
   "execution_count": 3,
   "metadata": {},
   "outputs": [
    {
     "data": {
      "text/html": [
       "<div>\n",
       "<style scoped>\n",
       "    .dataframe tbody tr th:only-of-type {\n",
       "        vertical-align: middle;\n",
       "    }\n",
       "\n",
       "    .dataframe tbody tr th {\n",
       "        vertical-align: top;\n",
       "    }\n",
       "\n",
       "    .dataframe thead th {\n",
       "        text-align: right;\n",
       "    }\n",
       "</style>\n",
       "<table border=\"1\" class=\"dataframe\">\n",
       "  <thead>\n",
       "    <tr style=\"text-align: right;\">\n",
       "      <th></th>\n",
       "      <th>tweet_id</th>\n",
       "      <th>label</th>\n",
       "    </tr>\n",
       "  </thead>\n",
       "  <tbody>\n",
       "    <tr>\n",
       "      <th>0</th>\n",
       "      <td>572342978255048705</td>\n",
       "      <td>racism</td>\n",
       "    </tr>\n",
       "    <tr>\n",
       "      <th>1</th>\n",
       "      <td>572341498827522049</td>\n",
       "      <td>racism</td>\n",
       "    </tr>\n",
       "    <tr>\n",
       "      <th>2</th>\n",
       "      <td>572340476503724032</td>\n",
       "      <td>racism</td>\n",
       "    </tr>\n",
       "    <tr>\n",
       "      <th>3</th>\n",
       "      <td>572334712804384768</td>\n",
       "      <td>racism</td>\n",
       "    </tr>\n",
       "    <tr>\n",
       "      <th>4</th>\n",
       "      <td>572332655397629952</td>\n",
       "      <td>racism</td>\n",
       "    </tr>\n",
       "  </tbody>\n",
       "</table>\n",
       "</div>"
      ],
      "text/plain": [
       "             tweet_id   label\n",
       "0  572342978255048705  racism\n",
       "1  572341498827522049  racism\n",
       "2  572340476503724032  racism\n",
       "3  572334712804384768  racism\n",
       "4  572332655397629952  racism"
      ]
     },
     "execution_count": 3,
     "metadata": {},
     "output_type": "execute_result"
    }
   ],
   "source": [
    "labels_csv = pd.read_csv(\"data\\\\NAACL_SRW_2016.csv\")\n",
    "labels_csv.head()"
   ]
  },
  {
   "cell_type": "code",
   "execution_count": 4,
   "metadata": {},
   "outputs": [
    {
     "name": "stderr",
     "output_type": "stream",
     "text": [
      "C:\\Users\\Mahdi\\Anaconda3\\lib\\site-packages\\ipykernel_launcher.py:1: ParserWarning: Falling back to the 'python' engine because the 'c' engine does not support regex separators (separators > 1 char and different from '\\s+' are interpreted as regex); you can avoid this warning by specifying engine='python'.\n",
      "  \"\"\"Entry point for launching an IPython kernel.\n"
     ]
    },
    {
     "data": {
      "text/html": [
       "<div>\n",
       "<style scoped>\n",
       "    .dataframe tbody tr th:only-of-type {\n",
       "        vertical-align: middle;\n",
       "    }\n",
       "\n",
       "    .dataframe tbody tr th {\n",
       "        vertical-align: top;\n",
       "    }\n",
       "\n",
       "    .dataframe thead th {\n",
       "        text-align: right;\n",
       "    }\n",
       "</style>\n",
       "<table border=\"1\" class=\"dataframe\">\n",
       "  <thead>\n",
       "    <tr style=\"text-align: right;\">\n",
       "      <th></th>\n",
       "      <th>tweet_id</th>\n",
       "      <th>tweet</th>\n",
       "    </tr>\n",
       "  </thead>\n",
       "  <tbody>\n",
       "    <tr>\n",
       "      <th>0</th>\n",
       "      <td>572332655397629952</td>\n",
       "      <td>These girls are the equivalent of the irritati...</td>\n",
       "    </tr>\n",
       "    <tr>\n",
       "      <th>1</th>\n",
       "      <td>572341498827522049</td>\n",
       "      <td>Drasko they didn't cook half a bird you idiot ...</td>\n",
       "    </tr>\n",
       "    <tr>\n",
       "      <th>2</th>\n",
       "      <td>572340476503724032</td>\n",
       "      <td>Hopefully someone cooks Drasko in the next ep ...</td>\n",
       "    </tr>\n",
       "    <tr>\n",
       "      <th>3</th>\n",
       "      <td>572334712804384768</td>\n",
       "      <td>of course you were born in serbia...you're as ...</td>\n",
       "    </tr>\n",
       "    <tr>\n",
       "      <th>4</th>\n",
       "      <td>575949086055997440</td>\n",
       "      <td>#MKR  Lost the plot - where's the big Texan wi...</td>\n",
       "    </tr>\n",
       "  </tbody>\n",
       "</table>\n",
       "</div>"
      ],
      "text/plain": [
       "             tweet_id                                              tweet\n",
       "0  572332655397629952  These girls are the equivalent of the irritati...\n",
       "1  572341498827522049  Drasko they didn't cook half a bird you idiot ...\n",
       "2  572340476503724032  Hopefully someone cooks Drasko in the next ep ...\n",
       "3  572334712804384768  of course you were born in serbia...you're as ...\n",
       "4  575949086055997440  #MKR  Lost the plot - where's the big Texan wi..."
      ]
     },
     "execution_count": 4,
     "metadata": {},
     "output_type": "execute_result"
    }
   ],
   "source": [
    "tweets_csv = pd.read_csv(\"data\\\\NAACL_SRW_2016_tweets.csv\", header=0, delimiter=\",bbbbbbbbbbb\", quoting=3)\n",
    "\n",
    "for i in range(len(tweets_csv)):\n",
    "    s = tweets_csv.iloc[i,1]\n",
    "    s = s[1:-1]\n",
    "    tweets_csv.iloc[i,1] = s\n",
    "\n",
    "tweets_csv.head()"
   ]
  },
  {
   "cell_type": "code",
   "execution_count": 5,
   "metadata": {},
   "outputs": [
    {
     "data": {
      "text/html": [
       "<div>\n",
       "<style scoped>\n",
       "    .dataframe tbody tr th:only-of-type {\n",
       "        vertical-align: middle;\n",
       "    }\n",
       "\n",
       "    .dataframe tbody tr th {\n",
       "        vertical-align: top;\n",
       "    }\n",
       "\n",
       "    .dataframe thead th {\n",
       "        text-align: right;\n",
       "    }\n",
       "</style>\n",
       "<table border=\"1\" class=\"dataframe\">\n",
       "  <thead>\n",
       "    <tr style=\"text-align: right;\">\n",
       "      <th></th>\n",
       "      <th>tweet_id</th>\n",
       "      <th>tweet</th>\n",
       "      <th>label</th>\n",
       "    </tr>\n",
       "  </thead>\n",
       "  <tbody>\n",
       "    <tr>\n",
       "      <th>0</th>\n",
       "      <td>572332655397629952</td>\n",
       "      <td>These girls are the equivalent of the irritati...</td>\n",
       "      <td>racism</td>\n",
       "    </tr>\n",
       "    <tr>\n",
       "      <th>1</th>\n",
       "      <td>572341498827522049</td>\n",
       "      <td>Drasko they didn't cook half a bird you idiot ...</td>\n",
       "      <td>racism</td>\n",
       "    </tr>\n",
       "    <tr>\n",
       "      <th>2</th>\n",
       "      <td>572341498827522049</td>\n",
       "      <td>Drasko they didn't cook half a bird you idiot ...</td>\n",
       "      <td>none</td>\n",
       "    </tr>\n",
       "    <tr>\n",
       "      <th>3</th>\n",
       "      <td>572340476503724032</td>\n",
       "      <td>Hopefully someone cooks Drasko in the next ep ...</td>\n",
       "      <td>racism</td>\n",
       "    </tr>\n",
       "    <tr>\n",
       "      <th>4</th>\n",
       "      <td>572340476503724032</td>\n",
       "      <td>Hopefully someone cooks Drasko in the next ep ...</td>\n",
       "      <td>none</td>\n",
       "    </tr>\n",
       "  </tbody>\n",
       "</table>\n",
       "</div>"
      ],
      "text/plain": [
       "             tweet_id                                              tweet  \\\n",
       "0  572332655397629952  These girls are the equivalent of the irritati...   \n",
       "1  572341498827522049  Drasko they didn't cook half a bird you idiot ...   \n",
       "2  572341498827522049  Drasko they didn't cook half a bird you idiot ...   \n",
       "3  572340476503724032  Hopefully someone cooks Drasko in the next ep ...   \n",
       "4  572340476503724032  Hopefully someone cooks Drasko in the next ep ...   \n",
       "\n",
       "    label  \n",
       "0  racism  \n",
       "1  racism  \n",
       "2    none  \n",
       "3  racism  \n",
       "4    none  "
      ]
     },
     "execution_count": 5,
     "metadata": {},
     "output_type": "execute_result"
    }
   ],
   "source": [
    "merged = tweets_csv.merge(labels_csv, on='tweet_id')\n",
    "merged = merged.drop_duplicates()\n",
    "merged = merged.reset_index(drop=True)\n",
    "merged.head()"
   ]
  },
  {
   "cell_type": "code",
   "execution_count": 6,
   "metadata": {},
   "outputs": [],
   "source": [
    "tweets_list = merged['tweet'].tolist()\n",
    "labels_list = merged['label'].tolist()\n",
    "\n",
    "max_wordNum = 0\n",
    "for tweet in tweets_list:\n",
    "    tweet_splitted = tweet.split()\n",
    "    if len(tweet_splitted) > max_wordNum:\n",
    "        max_wordNum = len(tweet_splitted)"
   ]
  },
  {
   "cell_type": "code",
   "execution_count": 7,
   "metadata": {},
   "outputs": [
    {
     "name": "stdout",
     "output_type": "stream",
     "text": [
      "WARNING:tensorflow:From <ipython-input-7-580c4f71fb09>:1: VocabularyProcessor.__init__ (from tensorflow.contrib.learn.python.learn.preprocessing.text) is deprecated and will be removed in a future version.\n",
      "Instructions for updating:\n",
      "Please use tensorflow/transform or tf.data.\n",
      "WARNING:tensorflow:From C:\\Users\\Mahdi\\Anaconda3\\lib\\site-packages\\tensorflow\\contrib\\learn\\python\\learn\\preprocessing\\text.py:154: CategoricalVocabulary.__init__ (from tensorflow.contrib.learn.python.learn.preprocessing.categorical_vocabulary) is deprecated and will be removed in a future version.\n",
      "Instructions for updating:\n",
      "Please use tensorflow/transform or tf.data.\n",
      "WARNING:tensorflow:From C:\\Users\\Mahdi\\Anaconda3\\lib\\site-packages\\tensorflow\\contrib\\learn\\python\\learn\\preprocessing\\text.py:170: tokenizer (from tensorflow.contrib.learn.python.learn.preprocessing.text) is deprecated and will be removed in a future version.\n",
      "Instructions for updating:\n",
      "Please use tensorflow/transform or tf.data.\n"
     ]
    }
   ],
   "source": [
    "vocab_processor = learn.preprocessing.VocabularyProcessor(max_wordNum)\n",
    "vocab_processor.fit_transform(tweets_list)\n",
    "vocab_dict = vocab_processor.vocabulary_._mapping"
   ]
  },
  {
   "cell_type": "code",
   "execution_count": 8,
   "metadata": {},
   "outputs": [],
   "source": [
    "def pre_trained_embedding(dictionary,filename):\n",
    "\n",
    "    embeddings_index = {}\n",
    "    f = open(filename, encoding=\"utf8\")\n",
    "    for line in f:\n",
    "        values = line.split()\n",
    "        word = values[0]\n",
    "        coefs = np.asarray(values[1:], dtype='float32')\n",
    "        embeddings_index[word] = coefs\n",
    "    f.close()\n",
    "\n",
    "    #print('Found %s word vectors.' % len(embeddings_index))\n",
    "\n",
    "    embedding_matrix = np.zeros((len(dictionary), 200))\n",
    "    for word, i in dictionary.items():\n",
    "        embedding_vector = embeddings_index.get(word)\n",
    "        if embedding_vector is not None:\n",
    "        # words not found in embedding index will be all-zeros.\n",
    "            embedding_matrix[i] = embedding_vector\n",
    "    return embedding_matrix"
   ]
  },
  {
   "cell_type": "code",
   "execution_count": 9,
   "metadata": {},
   "outputs": [],
   "source": [
    "M_pre_train=pre_trained_embedding(vocab_dict,'glove.twitter.27B\\\\glove.twitter.27B.200d.txt')"
   ]
  },
  {
   "cell_type": "code",
   "execution_count": 10,
   "metadata": {},
   "outputs": [],
   "source": [
    "X = np.array(list(vocab_processor.transform(tweets_list)))\n",
    "\n",
    "s = pd.Series(labels_list)\n",
    "Y = np.array(pd.get_dummies(s))\n",
    "\n",
    "X_train,X_test,y_train,y_test=train_test_split(X,Y,test_size=0.25)\n",
    "X_train,X_valid,y_train,y_valid=train_test_split(X_train,y_train,test_size=0.333)"
   ]
  },
  {
   "cell_type": "code",
   "execution_count": 11,
   "metadata": {},
   "outputs": [],
   "source": [
    "embedding_vecor_length = 200\n",
    "\n",
    "model_embed = Sequential()\n",
    "model_embed.add(Embedding(len(vocab_dict),embedding_vecor_length,weights=[M_pre_train],\n",
    "                          input_shape=(max_wordNum,),trainable=False, name='Embedding'))\n",
    "model_embed.compile(optimizer='RMSprop', loss='mean_squared_error')\n",
    "#print (model_embed.summary())\n",
    "X_train_embedded = model_embed.predict(X_train)\n",
    "X_valid_embedded = model_embed.predict(X_valid)"
   ]
  },
  {
   "cell_type": "code",
   "execution_count": 12,
   "metadata": {},
   "outputs": [
    {
     "name": "stdout",
     "output_type": "stream",
     "text": [
      "_________________________________________________________________\n",
      "Layer (type)                 Output Shape              Param #   \n",
      "=================================================================\n",
      "input_1 (InputLayer)         (None, 33, 200)           0         \n",
      "_________________________________________________________________\n",
      "lstm_1 (LSTM)                (None, 100)               120400    \n",
      "_________________________________________________________________\n",
      "repeat_vector_1 (RepeatVecto (None, 33, 100)           0         \n",
      "_________________________________________________________________\n",
      "lstm_2 (LSTM)                (None, 33, 200)           240800    \n",
      "=================================================================\n",
      "Total params: 361,200\n",
      "Trainable params: 361,200\n",
      "Non-trainable params: 0\n",
      "_________________________________________________________________\n",
      "None\n"
     ]
    }
   ],
   "source": [
    "#embedding_vecor_length = 200\n",
    "latent_dim = 100\n",
    "\n",
    "inputs = Input(shape=(max_wordNum,embedding_vecor_length))\n",
    "\n",
    "#embedding = Embedding(len(vocab_dict),embedding_vecor_length,weights=[M_pre_train],trainable=True)(inputs)\n",
    "\n",
    "encoded = LSTM(latent_dim)(inputs) #(embedding)\n",
    "\n",
    "decoded1 = RepeatVector(max_wordNum)(encoded)\n",
    "decoded2 = LSTM(embedding_vecor_length, return_sequences=True)(decoded1)\n",
    "#decoded3 = LSTM(max_wordNum, return_sequences=False)(decoded2)\n",
    "#decoded3 = TimeDistributed(Dense(1))(decoded2) \n",
    "#decoded3 = Reshape((max_wordNum,))(decoded3)\n",
    "\n",
    "sequence_autoencoder = Model(inputs, decoded2)\n",
    "\n",
    "encoder = Model(inputs, encoded)\n",
    "\n",
    "sequence_autoencoder.compile(optimizer='RMSprop', loss='mean_squared_error')\n",
    "#sequence_autoencoder.compile(loss='binary_crossentropy', optimizer='adam')\n",
    "\n",
    "\n",
    "print (sequence_autoencoder.summary())"
   ]
  },
  {
   "cell_type": "code",
   "execution_count": 13,
   "metadata": {},
   "outputs": [
    {
     "name": "stdout",
     "output_type": "stream",
     "text": [
      "Train on 5572 samples, validate on 2782 samples\n",
      "Epoch 1/20\n",
      "5572/5572 [==============================] - 16s 3ms/step - loss: 0.0753 - val_loss: 0.0719\n",
      "Epoch 2/20\n",
      "5572/5572 [==============================] - 17s 3ms/step - loss: 0.0734 - val_loss: 0.0715\n",
      "Epoch 3/20\n",
      "5572/5572 [==============================] - 16s 3ms/step - loss: 0.0732 - val_loss: 0.0716\n",
      "Epoch 4/20\n",
      "5572/5572 [==============================] - 15s 3ms/step - loss: 0.0729 - val_loss: 0.0700\n",
      "Epoch 5/20\n",
      "5572/5572 [==============================] - 16s 3ms/step - loss: 0.0722 - val_loss: 0.0724\n",
      "Epoch 6/20\n",
      "5572/5572 [==============================] - 17s 3ms/step - loss: 0.0716 - val_loss: 0.0696\n",
      "Epoch 7/20\n",
      "5572/5572 [==============================] - 27s 5ms/step - loss: 0.0711 - val_loss: 0.0688\n",
      "Epoch 8/20\n",
      "5572/5572 [==============================] - 29s 5ms/step - loss: 0.0708 - val_loss: 0.0696\n",
      "Epoch 9/20\n",
      "5572/5572 [==============================] - 30s 5ms/step - loss: 0.0706 - val_loss: 0.0685\n",
      "Epoch 10/20\n",
      "5572/5572 [==============================] - 30s 5ms/step - loss: 0.0704 - val_loss: 0.0697\n",
      "Epoch 11/20\n",
      "5572/5572 [==============================] - 31s 5ms/step - loss: 0.0702 - val_loss: 0.0683\n",
      "Epoch 12/20\n",
      "5572/5572 [==============================] - 30s 5ms/step - loss: 0.0701 - val_loss: 0.0686\n",
      "Epoch 13/20\n",
      "5572/5572 [==============================] - 30s 5ms/step - loss: 0.0699 - val_loss: 0.0681\n",
      "Epoch 14/20\n",
      "5572/5572 [==============================] - 17s 3ms/step - loss: 0.0698 - val_loss: 0.0680\n",
      "Epoch 15/20\n",
      "5572/5572 [==============================] - 18s 3ms/step - loss: 0.0698 - val_loss: 0.0677\n",
      "Epoch 16/20\n",
      "5572/5572 [==============================] - 17s 3ms/step - loss: 0.0696 - val_loss: 0.0677\n",
      "Epoch 17/20\n",
      "5572/5572 [==============================] - 16s 3ms/step - loss: 0.0695 - val_loss: 0.0680\n",
      "Epoch 18/20\n",
      "5572/5572 [==============================] - 17s 3ms/step - loss: 0.0694 - val_loss: 0.0676\n",
      "Epoch 19/20\n",
      "5572/5572 [==============================] - 19s 3ms/step - loss: 0.0693 - val_loss: 0.0675\n",
      "Epoch 20/20\n",
      "5572/5572 [==============================] - 17s 3ms/step - loss: 0.0693 - val_loss: 0.0676\n"
     ]
    }
   ],
   "source": [
    "callbacks=[EarlyStopping(monitor='val_loss',patience=5,verbose=1)]\n",
    "\n",
    "autoencoder_train = sequence_autoencoder.fit(X_train_embedded, X_train_embedded,\n",
    "                            batch_size=100,\n",
    "                            epochs=20,\n",
    "                            validation_data=(X_valid_embedded, X_valid_embedded)\n",
    "                            ,callbacks=callbacks\n",
    "                            )"
   ]
  },
  {
   "cell_type": "code",
   "execution_count": 14,
   "metadata": {},
   "outputs": [
    {
     "data": {
      "image/png": "[encoded data removed]",
      "text/plain": [
       "<matplotlib.figure.Figure at 0x13e8fbfe9b0>"
      ]
     },
     "metadata": {
      "needs_background": "light"
     },
     "output_type": "display_data"
    }
   ],
   "source": [
    "plt.figure()\n",
    "plt.plot(autoencoder_train.history['loss'])\n",
    "plt.plot(autoencoder_train.history['val_loss'])\n",
    "plt.title('train loss vs validation loss')\n",
    "plt.ylabel('loss')\n",
    "plt.xlabel('epoch')\n",
    "plt.legend(['train','validation'], loc='upper right')\n",
    "plt.show()"
   ]
  },
  {
   "cell_type": "code",
   "execution_count": 15,
   "metadata": {},
   "outputs": [
    {
     "name": "stdout",
     "output_type": "stream",
     "text": [
      "Test loss: 0.06725679720807118\n"
     ]
    }
   ],
   "source": [
    "X_test_embedded = model_embed.predict(X_test)\n",
    "score = sequence_autoencoder.evaluate(X_test_embedded, X_test_embedded, verbose=0)\n",
    "print('Test loss:', score)"
   ]
  },
  {
   "cell_type": "code",
   "execution_count": null,
   "metadata": {},
   "outputs": [],
   "source": []
  },
  {
   "cell_type": "code",
   "execution_count": 16,
   "metadata": {},
   "outputs": [
    {
     "name": "stdout",
     "output_type": "stream",
     "text": [
      "_________________________________________________________________\n",
      "Layer (type)                 Output Shape              Param #   \n",
      "=================================================================\n",
      "Hidden_Layer_1 (Dense)       (None, 20)                2020      \n",
      "_________________________________________________________________\n",
      "Softmax_Layer (Dense)        (None, 3)                 63        \n",
      "=================================================================\n",
      "Total params: 2,083\n",
      "Trainable params: 2,083\n",
      "Non-trainable params: 0\n",
      "_________________________________________________________________\n",
      "None\n"
     ]
    }
   ],
   "source": [
    "X_train_encoded = encoder.predict(X_train_embedded)\n",
    "X_valid_encoded = encoder.predict(X_valid_embedded)\n",
    "\n",
    "class_count = Y.shape[1]\n",
    "\n",
    "model = Sequential()\n",
    "model.add(Dense(20,activation='relu',name='Hidden_Layer_1', input_shape=(latent_dim,)))\n",
    "model.add(Dense(class_count, activation='softmax', name='Softmax_Layer'))\n",
    "model.compile(loss='categorical_crossentropy', optimizer='adam', metrics=['accuracy'])\n",
    "print (model.summary())"
   ]
  },
  {
   "cell_type": "code",
   "execution_count": 17,
   "metadata": {},
   "outputs": [
    {
     "name": "stdout",
     "output_type": "stream",
     "text": [
      "Train on 5572 samples, validate on 2782 samples\n",
      "Epoch 1/100\n",
      "5572/5572 [==============================] - 1s 91us/step - loss: 0.8036 - acc: 0.6619 - val_loss: 0.6031 - val_acc: 0.7477\n",
      "Epoch 2/100\n",
      "5572/5572 [==============================] - 0s 27us/step - loss: 0.5843 - acc: 0.7419 - val_loss: 0.5346 - val_acc: 0.7912\n",
      "Epoch 3/100\n",
      "5572/5572 [==============================] - 0s 21us/step - loss: 0.5344 - acc: 0.7830 - val_loss: 0.4992 - val_acc: 0.8063\n",
      "Epoch 4/100\n",
      "5572/5572 [==============================] - 0s 19us/step - loss: 0.5080 - acc: 0.7898 - val_loss: 0.4819 - val_acc: 0.8113\n",
      "Epoch 5/100\n",
      "5572/5572 [==============================] - 0s 18us/step - loss: 0.4915 - acc: 0.7985 - val_loss: 0.4680 - val_acc: 0.8124\n",
      "Epoch 6/100\n",
      "5572/5572 [==============================] - 0s 20us/step - loss: 0.4812 - acc: 0.7990 - val_loss: 0.4590 - val_acc: 0.8163\n",
      "Epoch 7/100\n",
      "5572/5572 [==============================] - 0s 18us/step - loss: 0.4729 - acc: 0.8001 - val_loss: 0.4541 - val_acc: 0.8181\n",
      "Epoch 8/100\n",
      "5572/5572 [==============================] - 0s 18us/step - loss: 0.4672 - acc: 0.8024 - val_loss: 0.4511 - val_acc: 0.8163\n",
      "Epoch 9/100\n",
      "5572/5572 [==============================] - 0s 22us/step - loss: 0.4633 - acc: 0.8040 - val_loss: 0.4419 - val_acc: 0.8170\n",
      "Epoch 10/100\n",
      "5572/5572 [==============================] - 0s 19us/step - loss: 0.4595 - acc: 0.8037 - val_loss: 0.4404 - val_acc: 0.8203\n",
      "Epoch 11/100\n",
      "5572/5572 [==============================] - 0s 19us/step - loss: 0.4586 - acc: 0.8044 - val_loss: 0.4383 - val_acc: 0.8206\n",
      "Epoch 12/100\n",
      "5572/5572 [==============================] - 0s 19us/step - loss: 0.4562 - acc: 0.8060 - val_loss: 0.4405 - val_acc: 0.8188\n",
      "Epoch 13/100\n",
      "5572/5572 [==============================] - 0s 19us/step - loss: 0.4557 - acc: 0.8049 - val_loss: 0.4366 - val_acc: 0.8185\n",
      "Epoch 14/100\n",
      "5572/5572 [==============================] - 0s 18us/step - loss: 0.4551 - acc: 0.8067 - val_loss: 0.4420 - val_acc: 0.8188\n",
      "Epoch 15/100\n",
      "5572/5572 [==============================] - 0s 19us/step - loss: 0.4560 - acc: 0.8040 - val_loss: 0.4399 - val_acc: 0.8181\n",
      "Epoch 16/100\n",
      "5572/5572 [==============================] - 0s 19us/step - loss: 0.4529 - acc: 0.8047 - val_loss: 0.4338 - val_acc: 0.8178\n",
      "Epoch 17/100\n",
      "5572/5572 [==============================] - 0s 20us/step - loss: 0.4532 - acc: 0.8026 - val_loss: 0.4388 - val_acc: 0.8199\n",
      "Epoch 18/100\n",
      "5572/5572 [==============================] - 0s 19us/step - loss: 0.4518 - acc: 0.8064 - val_loss: 0.4338 - val_acc: 0.8167\n",
      "Epoch 19/100\n",
      "5572/5572 [==============================] - 0s 22us/step - loss: 0.4513 - acc: 0.8055 - val_loss: 0.4341 - val_acc: 0.8156\n",
      "Epoch 20/100\n",
      "5572/5572 [==============================] - 0s 22us/step - loss: 0.4503 - acc: 0.8069 - val_loss: 0.4348 - val_acc: 0.8170\n",
      "Epoch 21/100\n",
      "5572/5572 [==============================] - 0s 18us/step - loss: 0.4505 - acc: 0.8065 - val_loss: 0.4325 - val_acc: 0.8206\n",
      "Epoch 22/100\n",
      "5572/5572 [==============================] - 0s 22us/step - loss: 0.4512 - acc: 0.8067 - val_loss: 0.4348 - val_acc: 0.8188\n",
      "Epoch 23/100\n",
      "5572/5572 [==============================] - 0s 19us/step - loss: 0.4488 - acc: 0.8074 - val_loss: 0.4321 - val_acc: 0.8170\n",
      "Epoch 24/100\n",
      "5572/5572 [==============================] - 0s 19us/step - loss: 0.4492 - acc: 0.8055 - val_loss: 0.4326 - val_acc: 0.8174\n",
      "Epoch 25/100\n",
      "5572/5572 [==============================] - 0s 21us/step - loss: 0.4487 - acc: 0.8087 - val_loss: 0.4318 - val_acc: 0.8188\n",
      "Epoch 26/100\n",
      "5572/5572 [==============================] - 0s 21us/step - loss: 0.4472 - acc: 0.8078 - val_loss: 0.4372 - val_acc: 0.8199\n",
      "Epoch 27/100\n",
      "5572/5572 [==============================] - 0s 20us/step - loss: 0.4468 - acc: 0.8087 - val_loss: 0.4326 - val_acc: 0.8196\n",
      "Epoch 28/100\n",
      "5572/5572 [==============================] - 0s 22us/step - loss: 0.4468 - acc: 0.8085 - val_loss: 0.4338 - val_acc: 0.8217\n",
      "Epoch 29/100\n",
      "5572/5572 [==============================] - 0s 25us/step - loss: 0.4467 - acc: 0.8073 - val_loss: 0.4332 - val_acc: 0.8242\n",
      "Epoch 30/100\n",
      "5572/5572 [==============================] - 0s 19us/step - loss: 0.4445 - acc: 0.8096 - val_loss: 0.4316 - val_acc: 0.8196\n",
      "Epoch 31/100\n",
      "5572/5572 [==============================] - 0s 19us/step - loss: 0.4452 - acc: 0.8078 - val_loss: 0.4327 - val_acc: 0.8203\n",
      "Epoch 32/100\n",
      "5572/5572 [==============================] - 0s 19us/step - loss: 0.4444 - acc: 0.8081 - val_loss: 0.4305 - val_acc: 0.8203\n",
      "Epoch 33/100\n",
      "5572/5572 [==============================] - 0s 20us/step - loss: 0.4444 - acc: 0.8076 - val_loss: 0.4327 - val_acc: 0.8199\n",
      "Epoch 34/100\n",
      "5572/5572 [==============================] - 0s 20us/step - loss: 0.4438 - acc: 0.8103 - val_loss: 0.4306 - val_acc: 0.8210\n",
      "Epoch 35/100\n",
      "5572/5572 [==============================] - 0s 21us/step - loss: 0.4429 - acc: 0.8096 - val_loss: 0.4311 - val_acc: 0.8221\n",
      "Epoch 36/100\n",
      "5572/5572 [==============================] - 0s 20us/step - loss: 0.4421 - acc: 0.8083 - val_loss: 0.4291 - val_acc: 0.8174\n",
      "Epoch 37/100\n",
      "5572/5572 [==============================] - 0s 22us/step - loss: 0.4411 - acc: 0.8089 - val_loss: 0.4312 - val_acc: 0.8217\n",
      "Epoch 38/100\n",
      "5572/5572 [==============================] - 0s 27us/step - loss: 0.4415 - acc: 0.8071 - val_loss: 0.4291 - val_acc: 0.8214\n",
      "Epoch 39/100\n",
      "5572/5572 [==============================] - 0s 24us/step - loss: 0.4409 - acc: 0.8083 - val_loss: 0.4336 - val_acc: 0.8203\n",
      "Epoch 40/100\n",
      "5572/5572 [==============================] - 0s 26us/step - loss: 0.4406 - acc: 0.8092 - val_loss: 0.4291 - val_acc: 0.8192\n",
      "Epoch 41/100\n",
      "5572/5572 [==============================] - 0s 19us/step - loss: 0.4401 - acc: 0.8062 - val_loss: 0.4340 - val_acc: 0.8203\n",
      "Epoch 00041: early stopping\n"
     ]
    }
   ],
   "source": [
    "callbacks=[EarlyStopping(monitor='val_loss',patience=5,verbose=1)]\n",
    "\n",
    "history = model.fit(X_train_encoded, y_train, \n",
    "                    validation_data=[X_valid_encoded,y_valid],\n",
    "                    epochs=100, \n",
    "                    batch_size=100\n",
    "                    ,callbacks=callbacks\n",
    "                   )"
   ]
  },
  {
   "cell_type": "code",
   "execution_count": 18,
   "metadata": {},
   "outputs": [
    {
     "data": {
      "image/png": "[encoded data removed]",
      "text/plain": [
       "<matplotlib.figure.Figure at 0x13e8fe98da0>"
      ]
     },
     "metadata": {
      "needs_background": "light"
     },
     "output_type": "display_data"
    }
   ],
   "source": [
    "plt.figure()\n",
    "plt.plot(history.history['loss'])\n",
    "plt.plot(history.history['val_loss'])\n",
    "plt.title('train loss vs validation loss')\n",
    "plt.ylabel('loss')\n",
    "plt.xlabel('epoch')\n",
    "plt.legend(['train','validation'], loc='upper right')\n",
    "plt.show()"
   ]
  },
  {
   "cell_type": "code",
   "execution_count": 19,
   "metadata": {},
   "outputs": [
    {
     "name": "stdout",
     "output_type": "stream",
     "text": [
      "Test loss: 0.43793215584444617\n",
      "Test accuracy: 0.822262118491921\n"
     ]
    }
   ],
   "source": [
    "X_test_encoded = encoder.predict(X_test_embedded)\n",
    "score = model.evaluate(X_test_encoded, y_test, verbose=0)\n",
    "print('Test loss:', score[0])\n",
    "print('Test accuracy:', score[1])"
   ]
  },
  {
   "cell_type": "code",
   "execution_count": null,
   "metadata": {},
   "outputs": [],
   "source": []
  }
 ],
 "metadata": {
  "kernelspec": {
   "display_name": "Python 3",
   "language": "python",
   "name": "python3"
  },
  "language_info": {
   "codemirror_mode": {
    "name": "ipython",
    "version": 3
   },
   "file_extension": ".py",
   "mimetype": "text/x-python",
   "name": "python",
   "nbconvert_exporter": "python",
   "pygments_lexer": "ipython3",
   "version": "3.6.4"
  }
 },
 "nbformat": 4,
 "nbformat_minor": 2
}
