{
 "cells": [
  {
   "cell_type": "code",
   "execution_count": 2,
   "metadata": {},
   "outputs": [],
   "source": [
    "import keras\n",
    "import numpy as np\n",
    "from keras import regularizers\n",
    "from keras.preprocessing.text import Tokenizer\n",
    "from keras.preprocessing.sequence import pad_sequences\n",
    "from keras.models import Sequential\n",
    "from keras.layers import *\n",
    "from keras.layers.embeddings import Embedding\n",
    "import matplotlib\n",
    "#matplotlib.use('Agg')\n",
    "#import matplotlib.pyplot as plt\n",
    "from matplotlib import pyplot as plt\n",
    "\n",
    "#import nltk\n",
    "#from nltk.corpus import stopwords\n",
    "#from nltk.stem import SnowballStemmer\n",
    "import re\n",
    "import string\n",
    "import numpy as np\n",
    "import pandas as pd\n",
    "from sklearn.manifold import TSNE\n",
    "import tensorflow as tf\n",
    "from tensorflow.contrib import rnn\n",
    "from sklearn.cross_validation import train_test_split\n",
    "from tensorflow.contrib import learn\n",
    "import os\n",
    "from collections import defaultdict\n",
    "from keras.callbacks import EarlyStopping\n",
    "#from gensim import corpora\n",
    "#pd.set_option('display.max_rows', 1000000000)"
   ]
  },
  {
   "cell_type": "code",
   "execution_count": 3,
   "metadata": {},
   "outputs": [
    {
     "data": {
      "text/html": [
       "<div>\n",
       "<style scoped>\n",
       "    .dataframe tbody tr th:only-of-type {\n",
       "        vertical-align: middle;\n",
       "    }\n",
       "\n",
       "    .dataframe tbody tr th {\n",
       "        vertical-align: top;\n",
       "    }\n",
       "\n",
       "    .dataframe thead th {\n",
       "        text-align: right;\n",
       "    }\n",
       "</style>\n",
       "<table border=\"1\" class=\"dataframe\">\n",
       "  <thead>\n",
       "    <tr style=\"text-align: right;\">\n",
       "      <th></th>\n",
       "      <th>tweet_id</th>\n",
       "      <th>label</th>\n",
       "    </tr>\n",
       "  </thead>\n",
       "  <tbody>\n",
       "    <tr>\n",
       "      <th>0</th>\n",
       "      <td>572342978255048705</td>\n",
       "      <td>racism</td>\n",
       "    </tr>\n",
       "    <tr>\n",
       "      <th>1</th>\n",
       "      <td>572341498827522049</td>\n",
       "      <td>racism</td>\n",
       "    </tr>\n",
       "    <tr>\n",
       "      <th>2</th>\n",
       "      <td>572340476503724032</td>\n",
       "      <td>racism</td>\n",
       "    </tr>\n",
       "    <tr>\n",
       "      <th>3</th>\n",
       "      <td>572334712804384768</td>\n",
       "      <td>racism</td>\n",
       "    </tr>\n",
       "    <tr>\n",
       "      <th>4</th>\n",
       "      <td>572332655397629952</td>\n",
       "      <td>racism</td>\n",
       "    </tr>\n",
       "  </tbody>\n",
       "</table>\n",
       "</div>"
      ],
      "text/plain": [
       "             tweet_id   label\n",
       "0  572342978255048705  racism\n",
       "1  572341498827522049  racism\n",
       "2  572340476503724032  racism\n",
       "3  572334712804384768  racism\n",
       "4  572332655397629952  racism"
      ]
     },
     "execution_count": 3,
     "metadata": {},
     "output_type": "execute_result"
    }
   ],
   "source": [
    "labels_csv = pd.read_csv(\"data\\\\NAACL_SRW_2016.csv\")\n",
    "labels_csv.head()"
   ]
  },
  {
   "cell_type": "code",
   "execution_count": 4,
   "metadata": {},
   "outputs": [
    {
     "name": "stderr",
     "output_type": "stream",
     "text": [
      "C:\\Users\\Mahdi\\Anaconda3\\lib\\site-packages\\ipykernel_launcher.py:1: ParserWarning: Falling back to the 'python' engine because the 'c' engine does not support regex separators (separators > 1 char and different from '\\s+' are interpreted as regex); you can avoid this warning by specifying engine='python'.\n",
      "  \"\"\"Entry point for launching an IPython kernel.\n"
     ]
    },
    {
     "data": {
      "text/html": [
       "<div>\n",
       "<style scoped>\n",
       "    .dataframe tbody tr th:only-of-type {\n",
       "        vertical-align: middle;\n",
       "    }\n",
       "\n",
       "    .dataframe tbody tr th {\n",
       "        vertical-align: top;\n",
       "    }\n",
       "\n",
       "    .dataframe thead th {\n",
       "        text-align: right;\n",
       "    }\n",
       "</style>\n",
       "<table border=\"1\" class=\"dataframe\">\n",
       "  <thead>\n",
       "    <tr style=\"text-align: right;\">\n",
       "      <th></th>\n",
       "      <th>tweet_id</th>\n",
       "      <th>tweet</th>\n",
       "    </tr>\n",
       "  </thead>\n",
       "  <tbody>\n",
       "    <tr>\n",
       "      <th>0</th>\n",
       "      <td>572332655397629952</td>\n",
       "      <td>These girls are the equivalent of the irritati...</td>\n",
       "    </tr>\n",
       "    <tr>\n",
       "      <th>1</th>\n",
       "      <td>572341498827522049</td>\n",
       "      <td>Drasko they didn't cook half a bird you idiot ...</td>\n",
       "    </tr>\n",
       "    <tr>\n",
       "      <th>2</th>\n",
       "      <td>572340476503724032</td>\n",
       "      <td>Hopefully someone cooks Drasko in the next ep ...</td>\n",
       "    </tr>\n",
       "    <tr>\n",
       "      <th>3</th>\n",
       "      <td>572334712804384768</td>\n",
       "      <td>of course you were born in serbia...you're as ...</td>\n",
       "    </tr>\n",
       "    <tr>\n",
       "      <th>4</th>\n",
       "      <td>575949086055997440</td>\n",
       "      <td>#MKR  Lost the plot - where's the big Texan wi...</td>\n",
       "    </tr>\n",
       "  </tbody>\n",
       "</table>\n",
       "</div>"
      ],
      "text/plain": [
       "             tweet_id                                              tweet\n",
       "0  572332655397629952  These girls are the equivalent of the irritati...\n",
       "1  572341498827522049  Drasko they didn't cook half a bird you idiot ...\n",
       "2  572340476503724032  Hopefully someone cooks Drasko in the next ep ...\n",
       "3  572334712804384768  of course you were born in serbia...you're as ...\n",
       "4  575949086055997440  #MKR  Lost the plot - where's the big Texan wi..."
      ]
     },
     "execution_count": 4,
     "metadata": {},
     "output_type": "execute_result"
    }
   ],
   "source": [
    "tweets_csv = pd.read_csv(\"data\\\\NAACL_SRW_2016_tweets.csv\", header=0, delimiter=\",bbbbbbbbbbb\", quoting=3)\n",
    "\n",
    "for i in range(len(tweets_csv)):\n",
    "    s = tweets_csv.iloc[i,1]\n",
    "    s = s[1:-1]\n",
    "    tweets_csv.iloc[i,1] = s\n",
    "\n",
    "tweets_csv.head()"
   ]
  },
  {
   "cell_type": "code",
   "execution_count": 5,
   "metadata": {},
   "outputs": [
    {
     "data": {
      "text/html": [
       "<div>\n",
       "<style scoped>\n",
       "    .dataframe tbody tr th:only-of-type {\n",
       "        vertical-align: middle;\n",
       "    }\n",
       "\n",
       "    .dataframe tbody tr th {\n",
       "        vertical-align: top;\n",
       "    }\n",
       "\n",
       "    .dataframe thead th {\n",
       "        text-align: right;\n",
       "    }\n",
       "</style>\n",
       "<table border=\"1\" class=\"dataframe\">\n",
       "  <thead>\n",
       "    <tr style=\"text-align: right;\">\n",
       "      <th></th>\n",
       "      <th>tweet_id</th>\n",
       "      <th>tweet</th>\n",
       "      <th>label</th>\n",
       "    </tr>\n",
       "  </thead>\n",
       "  <tbody>\n",
       "    <tr>\n",
       "      <th>0</th>\n",
       "      <td>572332655397629952</td>\n",
       "      <td>These girls are the equivalent of the irritati...</td>\n",
       "      <td>racism</td>\n",
       "    </tr>\n",
       "    <tr>\n",
       "      <th>1</th>\n",
       "      <td>572341498827522049</td>\n",
       "      <td>Drasko they didn't cook half a bird you idiot ...</td>\n",
       "      <td>racism</td>\n",
       "    </tr>\n",
       "    <tr>\n",
       "      <th>2</th>\n",
       "      <td>572341498827522049</td>\n",
       "      <td>Drasko they didn't cook half a bird you idiot ...</td>\n",
       "      <td>none</td>\n",
       "    </tr>\n",
       "    <tr>\n",
       "      <th>3</th>\n",
       "      <td>572340476503724032</td>\n",
       "      <td>Hopefully someone cooks Drasko in the next ep ...</td>\n",
       "      <td>racism</td>\n",
       "    </tr>\n",
       "    <tr>\n",
       "      <th>4</th>\n",
       "      <td>572340476503724032</td>\n",
       "      <td>Hopefully someone cooks Drasko in the next ep ...</td>\n",
       "      <td>none</td>\n",
       "    </tr>\n",
       "  </tbody>\n",
       "</table>\n",
       "</div>"
      ],
      "text/plain": [
       "             tweet_id                                              tweet  \\\n",
       "0  572332655397629952  These girls are the equivalent of the irritati...   \n",
       "1  572341498827522049  Drasko they didn't cook half a bird you idiot ...   \n",
       "2  572341498827522049  Drasko they didn't cook half a bird you idiot ...   \n",
       "3  572340476503724032  Hopefully someone cooks Drasko in the next ep ...   \n",
       "4  572340476503724032  Hopefully someone cooks Drasko in the next ep ...   \n",
       "\n",
       "    label  \n",
       "0  racism  \n",
       "1  racism  \n",
       "2    none  \n",
       "3  racism  \n",
       "4    none  "
      ]
     },
     "execution_count": 5,
     "metadata": {},
     "output_type": "execute_result"
    }
   ],
   "source": [
    "merged = tweets_csv.merge(labels_csv, on='tweet_id')\n",
    "merged = merged.drop_duplicates()\n",
    "merged = merged.reset_index(drop=True)\n",
    "merged.head()"
   ]
  },
  {
   "cell_type": "code",
   "execution_count": 6,
   "metadata": {},
   "outputs": [],
   "source": [
    "tweets_list = merged['tweet'].tolist()\n",
    "labels_list = merged['label'].tolist()\n",
    "\n",
    "max_wordNum = 0\n",
    "for tweet in tweets_list:\n",
    "    tweet_splitted = tweet.split()\n",
    "    if len(tweet_splitted) > max_wordNum:\n",
    "        max_wordNum = len(tweet_splitted)"
   ]
  },
  {
   "cell_type": "code",
   "execution_count": 7,
   "metadata": {},
   "outputs": [
    {
     "name": "stdout",
     "output_type": "stream",
     "text": [
      "WARNING:tensorflow:From <ipython-input-7-580c4f71fb09>:1: VocabularyProcessor.__init__ (from tensorflow.contrib.learn.python.learn.preprocessing.text) is deprecated and will be removed in a future version.\n",
      "Instructions for updating:\n",
      "Please use tensorflow/transform or tf.data.\n",
      "WARNING:tensorflow:From C:\\Users\\Mahdi\\Anaconda3\\lib\\site-packages\\tensorflow\\contrib\\learn\\python\\learn\\preprocessing\\text.py:154: CategoricalVocabulary.__init__ (from tensorflow.contrib.learn.python.learn.preprocessing.categorical_vocabulary) is deprecated and will be removed in a future version.\n",
      "Instructions for updating:\n",
      "Please use tensorflow/transform or tf.data.\n",
      "WARNING:tensorflow:From C:\\Users\\Mahdi\\Anaconda3\\lib\\site-packages\\tensorflow\\contrib\\learn\\python\\learn\\preprocessing\\text.py:170: tokenizer (from tensorflow.contrib.learn.python.learn.preprocessing.text) is deprecated and will be removed in a future version.\n",
      "Instructions for updating:\n",
      "Please use tensorflow/transform or tf.data.\n"
     ]
    }
   ],
   "source": [
    "vocab_processor = learn.preprocessing.VocabularyProcessor(max_wordNum)\n",
    "vocab_processor.fit_transform(tweets_list)\n",
    "vocab_dict = vocab_processor.vocabulary_._mapping"
   ]
  },
  {
   "cell_type": "code",
   "execution_count": 8,
   "metadata": {},
   "outputs": [],
   "source": [
    "def pre_trained_embedding(dictionary,filename):\n",
    "\n",
    "    embeddings_index = {}\n",
    "    f = open(filename, encoding=\"utf8\")\n",
    "    for line in f:\n",
    "        values = line.split()\n",
    "        word = values[0]\n",
    "        coefs = np.asarray(values[1:], dtype='float32')\n",
    "        embeddings_index[word] = coefs\n",
    "    f.close()\n",
    "\n",
    "    #print('Found %s word vectors.' % len(embeddings_index))\n",
    "\n",
    "    embedding_matrix = np.zeros((len(dictionary), 200))\n",
    "    for word, i in dictionary.items():\n",
    "        embedding_vector = embeddings_index.get(word)\n",
    "        if embedding_vector is not None:\n",
    "        # words not found in embedding index will be all-zeros.\n",
    "            embedding_matrix[i] = embedding_vector\n",
    "    return embedding_matrix"
   ]
  },
  {
   "cell_type": "code",
   "execution_count": 9,
   "metadata": {},
   "outputs": [],
   "source": [
    "M_pre_train=pre_trained_embedding(vocab_dict,'glove.twitter.27B\\\\glove.twitter.27B.200d.txt')"
   ]
  },
  {
   "cell_type": "code",
   "execution_count": 10,
   "metadata": {},
   "outputs": [],
   "source": [
    "X = np.array(list(vocab_processor.transform(tweets_list)))\n",
    "\n",
    "s = pd.Series(labels_list)\n",
    "Y = np.array(pd.get_dummies(s))\n",
    "\n",
    "X_train,X_test,y_train,y_test=train_test_split(X,Y,test_size=0.25)\n",
    "X_train,X_valid,y_train,y_valid=train_test_split(X_train,y_train,test_size=0.333)"
   ]
  },
  {
   "cell_type": "code",
   "execution_count": 11,
   "metadata": {},
   "outputs": [
    {
     "name": "stdout",
     "output_type": "stream",
     "text": [
      "__________________________________________________________________________________________________\n",
      "Layer (type)                    Output Shape         Param #     Connected to                     \n",
      "==================================================================================================\n",
      "input_1 (InputLayer)            (None, 33)           0                                            \n",
      "__________________________________________________________________________________________________\n",
      "Embedding (Embedding)           (None, 33, 200)      4507400     input_1[0][0]                    \n",
      "__________________________________________________________________________________________________\n",
      "Reshape_Embedding (Reshape)     (None, 33, 200, 1)   0           Embedding[0][0]                  \n",
      "__________________________________________________________________________________________________\n",
      "1Gram_Conv (Conv2D)             (None, 33, 1, 200)   40200       Reshape_Embedding[0][0]          \n",
      "__________________________________________________________________________________________________\n",
      "2Gram_Conv (Conv2D)             (None, 32, 1, 200)   80200       Reshape_Embedding[0][0]          \n",
      "__________________________________________________________________________________________________\n",
      "3Gram_Conv (Conv2D)             (None, 31, 1, 200)   120200      Reshape_Embedding[0][0]          \n",
      "__________________________________________________________________________________________________\n",
      "1Gram_Maxpool (MaxPooling2D)    (None, 1, 1, 200)    0           1Gram_Conv[0][0]                 \n",
      "__________________________________________________________________________________________________\n",
      "2Gram_Maxpool (MaxPooling2D)    (None, 1, 1, 200)    0           2Gram_Conv[0][0]                 \n",
      "__________________________________________________________________________________________________\n",
      "3Gram_Maxpool (MaxPooling2D)    (None, 1, 1, 200)    0           3Gram_Conv[0][0]                 \n",
      "__________________________________________________________________________________________________\n",
      "1Gram_TimeDistributed_Flatten ( (None, 200)          0           1Gram_Maxpool[0][0]              \n",
      "__________________________________________________________________________________________________\n",
      "2Gram_Flatten (Flatten)         (None, 200)          0           2Gram_Maxpool[0][0]              \n",
      "__________________________________________________________________________________________________\n",
      "3Gram_Flatten (Flatten)         (None, 200)          0           3Gram_Maxpool[0][0]              \n",
      "__________________________________________________________________________________________________\n",
      "Merge_n-grams (Concatenate)     (None, 600)          0           1Gram_TimeDistributed_Flatten[0][\n",
      "                                                                 2Gram_Flatten[0][0]              \n",
      "                                                                 3Gram_Flatten[0][0]              \n",
      "__________________________________________________________________________________________________\n",
      "Fully_Connected_Layer (Dense)   (None, 20)           12020       Merge_n-grams[0][0]              \n",
      "__________________________________________________________________________________________________\n",
      "Softmax_Layer (Dense)           (None, 3)            63          Fully_Connected_Layer[0][0]      \n",
      "==================================================================================================\n",
      "Total params: 4,760,083\n",
      "Trainable params: 4,760,083\n",
      "Non-trainable params: 0\n",
      "__________________________________________________________________________________________________\n",
      "None\n"
     ]
    }
   ],
   "source": [
    "from keras.models import Model\n",
    "from keras.utils import plot_model\n",
    "from keras.layers.merge import concatenate\n",
    "\n",
    "embedding_vecor_length = 200\n",
    "class_count = Y.shape[1]\n",
    "\n",
    "x = Input(shape=(max_wordNum,))\n",
    "embedding_layer = Embedding(len(vocab_dict),embedding_vecor_length,weights=[M_pre_train]\n",
    "                       ,input_shape=(max_wordNum,),trainable=True,name='Embedding')(x)\n",
    "reshape_layer = Reshape((max_wordNum , embedding_vecor_length , 1) , name='Reshape_Embedding')(embedding_layer)\n",
    "\n",
    "one_gram_conv = Conv2D(200, kernel_size=(1, embedding_vecor_length), activation='relu' , use_bias=True\n",
    "                       , name='1Gram_Conv')(reshape_layer)\n",
    "one_gram_maxpool = MaxPooling2D(pool_size=(max_wordNum - 1 + 1, 1) \n",
    "                                , name='1Gram_Maxpool')(one_gram_conv)\n",
    "one_gram_flatten = Flatten(name='1Gram_TimeDistributed_Flatten')(one_gram_maxpool)\n",
    "\n",
    "two_gram_conv = Conv2D(200, kernel_size=(2, embedding_vecor_length), activation='relu' , use_bias=True \n",
    "                                , name='2Gram_Conv')(reshape_layer)\n",
    "two_gram_maxpool = MaxPooling2D(pool_size=(max_wordNum - 2 + 1, 1) \n",
    "                                   , name='2Gram_Maxpool')(two_gram_conv)\n",
    "two_gram_flatten = Flatten(name='2Gram_Flatten')(two_gram_maxpool)\n",
    "\n",
    "three_gram_conv = Conv2D(200, kernel_size=(3, embedding_vecor_length), activation='relu' , use_bias=True \n",
    "                                  , name='3Gram_Conv')(reshape_layer)\n",
    "three_gram_maxpool = MaxPooling2D(pool_size=(max_wordNum - 3 + 1, 1) \n",
    "                                , name='3Gram_Maxpool')(three_gram_conv)\n",
    "three_gram_flatten = Flatten(name='3Gram_Flatten')(three_gram_maxpool)\n",
    "\n",
    "merge = concatenate([one_gram_flatten, two_gram_flatten , three_gram_flatten] , name='Merge_n-grams')\n",
    "\n",
    "fully_connected = Dense(20,activation='relu',name='Fully_Connected_Layer')(merge)\n",
    "\n",
    "softmax_layer = Dense(class_count, activation='softmax', name='Softmax_Layer')(fully_connected)\n",
    "\n",
    "output = softmax_layer\n",
    "model = Model(inputs=x , outputs=output)\n",
    "\n",
    "model.compile(loss='categorical_crossentropy', optimizer='adam', metrics=['accuracy'])\n",
    "print(model.summary())"
   ]
  },
  {
   "cell_type": "code",
   "execution_count": 12,
   "metadata": {},
   "outputs": [
    {
     "name": "stdout",
     "output_type": "stream",
     "text": [
      "Train on 5572 samples, validate on 2782 samples\n",
      "Epoch 1/50\n",
      "5572/5572 [==============================] - 26s 5ms/step - loss: 0.4817 - acc: 0.8101 - val_loss: 0.4361 - val_acc: 0.8257\n",
      "Epoch 2/50\n",
      "5572/5572 [==============================] - 24s 4ms/step - loss: 0.3098 - acc: 0.8747 - val_loss: 0.3602 - val_acc: 0.8512\n",
      "Epoch 3/50\n",
      "5572/5572 [==============================] - 23s 4ms/step - loss: 0.1610 - acc: 0.9424 - val_loss: 0.3408 - val_acc: 0.8659\n",
      "Epoch 4/50\n",
      "5572/5572 [==============================] - 23s 4ms/step - loss: 0.0738 - acc: 0.9770 - val_loss: 0.4010 - val_acc: 0.8656\n",
      "Epoch 5/50\n",
      "5572/5572 [==============================] - 24s 4ms/step - loss: 0.0380 - acc: 0.9896 - val_loss: 0.4225 - val_acc: 0.8702\n",
      "Epoch 6/50\n",
      "5572/5572 [==============================] - 25s 4ms/step - loss: 0.0310 - acc: 0.9910 - val_loss: 0.4732 - val_acc: 0.8663\n",
      "Epoch 7/50\n",
      "5572/5572 [==============================] - 25s 4ms/step - loss: 0.0195 - acc: 0.9941 - val_loss: 0.4556 - val_acc: 0.8627\n",
      "Epoch 8/50\n",
      "5572/5572 [==============================] - 26s 5ms/step - loss: 0.0163 - acc: 0.9944 - val_loss: 0.5298 - val_acc: 0.8620\n",
      "Epoch 00008: early stopping\n"
     ]
    }
   ],
   "source": [
    "callbacks=[EarlyStopping(monitor='val_loss',patience=5,verbose=1)]\n",
    "\n",
    "history = model.fit(X_train,y_train,\n",
    "                    validation_data=[X_valid,y_valid],\n",
    "                    epochs=50, \n",
    "                    batch_size=100\n",
    "                    ,callbacks=callbacks\n",
    "                   )"
   ]
  },
  {
   "cell_type": "code",
   "execution_count": 13,
   "metadata": {},
   "outputs": [
    {
     "data": {
      "image/png": "[encoded data removed]",
      "text/plain": [
       "<matplotlib.figure.Figure at 0x193d1bdcf60>"
      ]
     },
     "metadata": {
      "needs_background": "light"
     },
     "output_type": "display_data"
    }
   ],
   "source": [
    "plt.figure()\n",
    "plt.plot(history.history['loss'])\n",
    "plt.plot(history.history['val_loss'])\n",
    "plt.title('train loss vs validation loss')\n",
    "plt.ylabel('loss')\n",
    "plt.xlabel('epoch')\n",
    "plt.legend(['train','validation'], loc='upper right')\n",
    "plt.show()"
   ]
  },
  {
   "cell_type": "code",
   "execution_count": 14,
   "metadata": {},
   "outputs": [
    {
     "name": "stdout",
     "output_type": "stream",
     "text": [
      "Test loss: 0.5732308421651807\n",
      "Test accuracy: 0.8628366247755835\n"
     ]
    }
   ],
   "source": [
    "score = model.evaluate(X_test, y_test, verbose=0)\n",
    "print('Test loss:', score[0])\n",
    "print('Test accuracy:', score[1])"
   ]
  },
  {
   "cell_type": "code",
   "execution_count": null,
   "metadata": {},
   "outputs": [],
   "source": []
  }
 ],
 "metadata": {
  "kernelspec": {
   "display_name": "Python 3",
   "language": "python",
   "name": "python3"
  },
  "language_info": {
   "codemirror_mode": {
    "name": "ipython",
    "version": 3
   },
   "file_extension": ".py",
   "mimetype": "text/x-python",
   "name": "python",
   "nbconvert_exporter": "python",
   "pygments_lexer": "ipython3",
   "version": "3.6.4"
  }
 },
 "nbformat": 4,
 "nbformat_minor": 2
}
