{
 "cells": [
  {
   "cell_type": "code",
   "execution_count": 2,
   "metadata": {},
   "outputs": [],
   "source": [
    "import keras\n",
    "import numpy as np\n",
    "from keras import regularizers\n",
    "from keras.preprocessing.text import Tokenizer\n",
    "from keras.preprocessing.sequence import pad_sequences\n",
    "from keras.models import Sequential\n",
    "from keras.layers import *\n",
    "from keras.layers.embeddings import Embedding\n",
    "import matplotlib\n",
    "#matplotlib.use('Agg')\n",
    "#import matplotlib.pyplot as plt\n",
    "from matplotlib import pyplot as plt\n",
    "\n",
    "#import nltk\n",
    "#from nltk.corpus import stopwords\n",
    "#from nltk.stem import SnowballStemmer\n",
    "import re\n",
    "import string\n",
    "import numpy as np\n",
    "import pandas as pd\n",
    "from sklearn.manifold import TSNE\n",
    "import tensorflow as tf\n",
    "from tensorflow.contrib import rnn\n",
    "from sklearn.cross_validation import train_test_split\n",
    "from tensorflow.contrib import learn\n",
    "import os\n",
    "from collections import defaultdict\n",
    "from keras.callbacks import EarlyStopping\n",
    "#from gensim import corpora\n",
    "#pd.set_option('display.max_rows', 1000000000)"
   ]
  },
  {
   "cell_type": "code",
   "execution_count": 16,
   "metadata": {},
   "outputs": [
    {
     "data": {
      "text/html": [
       "<div>\n",
       "<style scoped>\n",
       "    .dataframe tbody tr th:only-of-type {\n",
       "        vertical-align: middle;\n",
       "    }\n",
       "\n",
       "    .dataframe tbody tr th {\n",
       "        vertical-align: top;\n",
       "    }\n",
       "\n",
       "    .dataframe thead th {\n",
       "        text-align: right;\n",
       "    }\n",
       "</style>\n",
       "<table border=\"1\" class=\"dataframe\">\n",
       "  <thead>\n",
       "    <tr style=\"text-align: right;\">\n",
       "      <th></th>\n",
       "      <th>Unnamed: 0</th>\n",
       "      <th>count</th>\n",
       "      <th>hate_speech</th>\n",
       "      <th>offensive_language</th>\n",
       "      <th>neither</th>\n",
       "      <th>class</th>\n",
       "      <th>tweet</th>\n",
       "    </tr>\n",
       "  </thead>\n",
       "  <tbody>\n",
       "    <tr>\n",
       "      <th>0</th>\n",
       "      <td>0</td>\n",
       "      <td>3</td>\n",
       "      <td>0</td>\n",
       "      <td>0</td>\n",
       "      <td>3</td>\n",
       "      <td>2</td>\n",
       "      <td>!!! RT @mayasolovely: As a woman you shouldn't...</td>\n",
       "    </tr>\n",
       "    <tr>\n",
       "      <th>1</th>\n",
       "      <td>1</td>\n",
       "      <td>3</td>\n",
       "      <td>0</td>\n",
       "      <td>3</td>\n",
       "      <td>0</td>\n",
       "      <td>1</td>\n",
       "      <td>!!!!! RT @mleew17: boy dats cold...tyga dwn ba...</td>\n",
       "    </tr>\n",
       "    <tr>\n",
       "      <th>2</th>\n",
       "      <td>2</td>\n",
       "      <td>3</td>\n",
       "      <td>0</td>\n",
       "      <td>3</td>\n",
       "      <td>0</td>\n",
       "      <td>1</td>\n",
       "      <td>!!!!!!! RT @UrKindOfBrand Dawg!!!! RT @80sbaby...</td>\n",
       "    </tr>\n",
       "    <tr>\n",
       "      <th>3</th>\n",
       "      <td>3</td>\n",
       "      <td>3</td>\n",
       "      <td>0</td>\n",
       "      <td>2</td>\n",
       "      <td>1</td>\n",
       "      <td>1</td>\n",
       "      <td>!!!!!!!!! RT @C_G_Anderson: @viva_based she lo...</td>\n",
       "    </tr>\n",
       "    <tr>\n",
       "      <th>4</th>\n",
       "      <td>4</td>\n",
       "      <td>6</td>\n",
       "      <td>0</td>\n",
       "      <td>6</td>\n",
       "      <td>0</td>\n",
       "      <td>1</td>\n",
       "      <td>!!!!!!!!!!!!! RT @ShenikaRoberts: The shit you...</td>\n",
       "    </tr>\n",
       "  </tbody>\n",
       "</table>\n",
       "</div>"
      ],
      "text/plain": [
       "   Unnamed: 0  count  hate_speech  offensive_language  neither  class  \\\n",
       "0           0      3            0                   0        3      2   \n",
       "1           1      3            0                   3        0      1   \n",
       "2           2      3            0                   3        0      1   \n",
       "3           3      3            0                   2        1      1   \n",
       "4           4      6            0                   6        0      1   \n",
       "\n",
       "                                               tweet  \n",
       "0  !!! RT @mayasolovely: As a woman you shouldn't...  \n",
       "1  !!!!! RT @mleew17: boy dats cold...tyga dwn ba...  \n",
       "2  !!!!!!! RT @UrKindOfBrand Dawg!!!! RT @80sbaby...  \n",
       "3  !!!!!!!!! RT @C_G_Anderson: @viva_based she lo...  \n",
       "4  !!!!!!!!!!!!! RT @ShenikaRoberts: The shit you...  "
      ]
     },
     "execution_count": 16,
     "metadata": {},
     "output_type": "execute_result"
    }
   ],
   "source": [
    "data_csv = pd.read_csv(\"data\\\\labeled_data.csv\")\n",
    "data_csv.head()"
   ]
  },
  {
   "cell_type": "code",
   "execution_count": 19,
   "metadata": {},
   "outputs": [],
   "source": [
    "tweets_list = data_csv['tweet'].tolist()\n",
    "labels_list = data_csv['class'].tolist()\n",
    "\n",
    "max_wordNum = 0\n",
    "for tweet in tweets_list:\n",
    "    tweet_splitted = tweet.split()\n",
    "    if len(tweet_splitted) > max_wordNum:\n",
    "        max_wordNum = len(tweet_splitted)"
   ]
  },
  {
   "cell_type": "code",
   "execution_count": null,
   "metadata": {},
   "outputs": [],
   "source": [
    "vocab_processor = learn.preprocessing.VocabularyProcessor(max_wordNum)\n",
    "vocab_processor.fit_transform(tweets_list)\n",
    "vocab_dict = vocab_processor.vocabulary_._mapping"
   ]
  },
  {
   "cell_type": "code",
   "execution_count": 22,
   "metadata": {},
   "outputs": [],
   "source": [
    "def pre_trained_embedding(dictionary,filename):\n",
    "\n",
    "    embeddings_index = {}\n",
    "    f = open(filename, encoding=\"utf8\")\n",
    "    for line in f:\n",
    "        values = line.split()\n",
    "        word = values[0]\n",
    "        coefs = np.asarray(values[1:], dtype='float32')\n",
    "        embeddings_index[word] = coefs\n",
    "    f.close()\n",
    "\n",
    "    #print('Found %s word vectors.' % len(embeddings_index))\n",
    "\n",
    "    embedding_matrix = np.zeros((len(dictionary), 200))\n",
    "    for word, i in dictionary.items():\n",
    "        embedding_vector = embeddings_index.get(word)\n",
    "        if embedding_vector is not None:\n",
    "        # words not found in embedding index will be all-zeros.\n",
    "            embedding_matrix[i] = embedding_vector\n",
    "    return embedding_matrix"
   ]
  },
  {
   "cell_type": "code",
   "execution_count": 23,
   "metadata": {},
   "outputs": [],
   "source": [
    "M_pre_train=pre_trained_embedding(vocab_dict,'glove.twitter.27B\\\\glove.twitter.27B.200d.txt')"
   ]
  },
  {
   "cell_type": "code",
   "execution_count": 24,
   "metadata": {},
   "outputs": [],
   "source": [
    "X = np.array(list(vocab_processor.transform(tweets_list)))\n",
    "\n",
    "s = pd.Series(labels_list)\n",
    "Y = np.array(pd.get_dummies(s))\n",
    "\n",
    "X_train,X_test,y_train,y_test=train_test_split(X,Y,test_size=0.25)\n",
    "X_train,X_valid,y_train,y_valid=train_test_split(X_train,y_train,test_size=0.333)"
   ]
  },
  {
   "cell_type": "code",
   "execution_count": 25,
   "metadata": {},
   "outputs": [
    {
     "name": "stdout",
     "output_type": "stream",
     "text": [
      "_________________________________________________________________\n",
      "Layer (type)                 Output Shape              Param #   \n",
      "=================================================================\n",
      "Embedding (Embedding)        (None, 52, 200)           8607200   \n",
      "_________________________________________________________________\n",
      "LSTM (LSTM)                  (None, 100)               120400    \n",
      "_________________________________________________________________\n",
      "Hidden_Layer_1 (Dense)       (None, 20)                2020      \n",
      "_________________________________________________________________\n",
      "Softmax_Layer (Dense)        (None, 3)                 63        \n",
      "=================================================================\n",
      "Total params: 8,729,683\n",
      "Trainable params: 8,729,683\n",
      "Non-trainable params: 0\n",
      "_________________________________________________________________\n",
      "None\n"
     ]
    }
   ],
   "source": [
    "embedding_vecor_length = 200\n",
    "class_count = Y.shape[1]\n",
    "\n",
    "model = Sequential()\n",
    "model.add(Embedding(len(vocab_dict),embedding_vecor_length,weights=[M_pre_train],input_shape=(max_wordNum,),trainable=True, name='Embedding'))\n",
    "model.add(LSTM(100,return_sequences=False,name='LSTM'))\n",
    "model.add(Dense(20,activation='relu',name='Hidden_Layer_1'))\n",
    "model.add(Dense(class_count, activation='softmax', name='Softmax_Layer'))\n",
    "\n",
    "model.compile(loss='categorical_crossentropy', optimizer='adam', metrics=['accuracy'])\n",
    "print (model.summary())"
   ]
  },
  {
   "cell_type": "code",
   "execution_count": 26,
   "metadata": {},
   "outputs": [
    {
     "name": "stdout",
     "output_type": "stream",
     "text": [
      "Train on 12397 samples, validate on 6190 samples\n",
      "Epoch 1/50\n",
      "12397/12397 [==============================] - 44s 4ms/step - loss: 0.6772 - acc: 0.7703 - val_loss: 0.5124 - val_acc: 0.7698\n",
      "Epoch 2/50\n",
      "12397/12397 [==============================] - 40s 3ms/step - loss: 0.4835 - acc: 0.8457 - val_loss: 0.5275 - val_acc: 0.8485\n",
      "Epoch 3/50\n",
      "12397/12397 [==============================] - 40s 3ms/step - loss: 0.4432 - acc: 0.8767 - val_loss: 0.5588 - val_acc: 0.8378\n",
      "Epoch 4/50\n",
      "12397/12397 [==============================] - 41s 3ms/step - loss: 0.4161 - acc: 0.8851 - val_loss: 0.4031 - val_acc: 0.8738\n",
      "Epoch 5/50\n",
      "12397/12397 [==============================] - 41s 3ms/step - loss: 0.3554 - acc: 0.8942 - val_loss: 0.3510 - val_acc: 0.8858\n",
      "Epoch 6/50\n",
      "12397/12397 [==============================] - 49s 4ms/step - loss: 0.3064 - acc: 0.8980 - val_loss: 0.3458 - val_acc: 0.8869\n",
      "Epoch 7/50\n",
      "12397/12397 [==============================] - 49s 4ms/step - loss: 0.2547 - acc: 0.9176 - val_loss: 0.3493 - val_acc: 0.8892\n",
      "Epoch 8/50\n",
      "12397/12397 [==============================] - 48s 4ms/step - loss: 0.1893 - acc: 0.9370 - val_loss: 0.3983 - val_acc: 0.8801\n",
      "Epoch 9/50\n",
      "12397/12397 [==============================] - 41s 3ms/step - loss: 0.1226 - acc: 0.9644 - val_loss: 0.4619 - val_acc: 0.8515\n",
      "Epoch 10/50\n",
      "12397/12397 [==============================] - 41s 3ms/step - loss: 0.1059 - acc: 0.9678 - val_loss: 0.5373 - val_acc: 0.8541\n",
      "Epoch 11/50\n",
      "12397/12397 [==============================] - 44s 4ms/step - loss: 0.0648 - acc: 0.9825 - val_loss: 0.5882 - val_acc: 0.8386\n",
      "Epoch 00011: early stopping\n"
     ]
    }
   ],
   "source": [
    "callbacks=[EarlyStopping(monitor='val_loss',patience=5,verbose=1)]\n",
    "\n",
    "history = model.fit(X_train,y_train,\n",
    "                    validation_data=[X_valid,y_valid],\n",
    "                    epochs=50, \n",
    "                    batch_size=100\n",
    "                    ,callbacks=callbacks\n",
    "                   )"
   ]
  },
  {
   "cell_type": "code",
   "execution_count": 27,
   "metadata": {},
   "outputs": [
    {
     "data": {
      "image/png": "[encoded data removed]",
      "text/plain": [
       "<matplotlib.figure.Figure at 0x1cf8aec8198>"
      ]
     },
     "metadata": {
      "needs_background": "light"
     },
     "output_type": "display_data"
    }
   ],
   "source": [
    "plt.figure()\n",
    "plt.plot(history.history['loss'])\n",
    "plt.plot(history.history['val_loss'])\n",
    "plt.title('train loss vs validation loss')\n",
    "plt.ylabel('loss')\n",
    "plt.xlabel('epoch')\n",
    "plt.legend(['train','validation'], loc='upper right')\n",
    "plt.show()"
   ]
  },
  {
   "cell_type": "code",
   "execution_count": 28,
   "metadata": {},
   "outputs": [
    {
     "name": "stdout",
     "output_type": "stream",
     "text": [
      "Test loss: 0.6086507039427218\n",
      "Test accuracy: 0.8318269851901903\n"
     ]
    }
   ],
   "source": [
    "score = model.evaluate(X_test, y_test, verbose=0)\n",
    "print('Test loss:', score[0])\n",
    "print('Test accuracy:', score[1])"
   ]
  },
  {
   "cell_type": "code",
   "execution_count": null,
   "metadata": {},
   "outputs": [],
   "source": []
  }
 ],
 "metadata": {
  "kernelspec": {
   "display_name": "Python 3",
   "language": "python",
   "name": "python3"
  },
  "language_info": {
   "codemirror_mode": {
    "name": "ipython",
    "version": 3
   },
   "file_extension": ".py",
   "mimetype": "text/x-python",
   "name": "python",
   "nbconvert_exporter": "python",
   "pygments_lexer": "ipython3",
   "version": "3.6.4"
  }
 },
 "nbformat": 4,
 "nbformat_minor": 2
}
