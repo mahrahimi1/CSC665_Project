{
 "cells": [
  {
   "cell_type": "code",
   "execution_count": 2,
   "metadata": {},
   "outputs": [],
   "source": [
    "import keras\n",
    "import numpy as np\n",
    "from keras import regularizers\n",
    "from keras.preprocessing.text import Tokenizer\n",
    "from keras.preprocessing.sequence import pad_sequences\n",
    "from keras.models import Sequential\n",
    "from keras.layers import *\n",
    "from keras.layers.embeddings import Embedding\n",
    "import matplotlib\n",
    "#matplotlib.use('Agg')\n",
    "#import matplotlib.pyplot as plt\n",
    "from matplotlib import pyplot as plt\n",
    "\n",
    "#import nltk\n",
    "#from nltk.corpus import stopwords\n",
    "#from nltk.stem import SnowballStemmer\n",
    "import re\n",
    "import string\n",
    "import numpy as np\n",
    "import pandas as pd\n",
    "from sklearn.manifold import TSNE\n",
    "import tensorflow as tf\n",
    "from tensorflow.contrib import rnn\n",
    "from sklearn.cross_validation import train_test_split\n",
    "from tensorflow.contrib import learn\n",
    "import os\n",
    "from collections import defaultdict\n",
    "from keras.callbacks import EarlyStopping\n",
    "#from gensim import corpora\n",
    "#pd.set_option('display.max_rows', 1000000000)"
   ]
  },
  {
   "cell_type": "code",
   "execution_count": 3,
   "metadata": {},
   "outputs": [
    {
     "data": {
      "text/html": [
       "<div>\n",
       "<style scoped>\n",
       "    .dataframe tbody tr th:only-of-type {\n",
       "        vertical-align: middle;\n",
       "    }\n",
       "\n",
       "    .dataframe tbody tr th {\n",
       "        vertical-align: top;\n",
       "    }\n",
       "\n",
       "    .dataframe thead th {\n",
       "        text-align: right;\n",
       "    }\n",
       "</style>\n",
       "<table border=\"1\" class=\"dataframe\">\n",
       "  <thead>\n",
       "    <tr style=\"text-align: right;\">\n",
       "      <th></th>\n",
       "      <th>Unnamed: 0</th>\n",
       "      <th>count</th>\n",
       "      <th>hate_speech</th>\n",
       "      <th>offensive_language</th>\n",
       "      <th>neither</th>\n",
       "      <th>class</th>\n",
       "      <th>tweet</th>\n",
       "    </tr>\n",
       "  </thead>\n",
       "  <tbody>\n",
       "    <tr>\n",
       "      <th>0</th>\n",
       "      <td>0</td>\n",
       "      <td>3</td>\n",
       "      <td>0</td>\n",
       "      <td>0</td>\n",
       "      <td>3</td>\n",
       "      <td>2</td>\n",
       "      <td>!!! RT @mayasolovely: As a woman you shouldn't...</td>\n",
       "    </tr>\n",
       "    <tr>\n",
       "      <th>1</th>\n",
       "      <td>1</td>\n",
       "      <td>3</td>\n",
       "      <td>0</td>\n",
       "      <td>3</td>\n",
       "      <td>0</td>\n",
       "      <td>1</td>\n",
       "      <td>!!!!! RT @mleew17: boy dats cold...tyga dwn ba...</td>\n",
       "    </tr>\n",
       "    <tr>\n",
       "      <th>2</th>\n",
       "      <td>2</td>\n",
       "      <td>3</td>\n",
       "      <td>0</td>\n",
       "      <td>3</td>\n",
       "      <td>0</td>\n",
       "      <td>1</td>\n",
       "      <td>!!!!!!! RT @UrKindOfBrand Dawg!!!! RT @80sbaby...</td>\n",
       "    </tr>\n",
       "    <tr>\n",
       "      <th>3</th>\n",
       "      <td>3</td>\n",
       "      <td>3</td>\n",
       "      <td>0</td>\n",
       "      <td>2</td>\n",
       "      <td>1</td>\n",
       "      <td>1</td>\n",
       "      <td>!!!!!!!!! RT @C_G_Anderson: @viva_based she lo...</td>\n",
       "    </tr>\n",
       "    <tr>\n",
       "      <th>4</th>\n",
       "      <td>4</td>\n",
       "      <td>6</td>\n",
       "      <td>0</td>\n",
       "      <td>6</td>\n",
       "      <td>0</td>\n",
       "      <td>1</td>\n",
       "      <td>!!!!!!!!!!!!! RT @ShenikaRoberts: The shit you...</td>\n",
       "    </tr>\n",
       "  </tbody>\n",
       "</table>\n",
       "</div>"
      ],
      "text/plain": [
       "   Unnamed: 0  count  hate_speech  offensive_language  neither  class  \\\n",
       "0           0      3            0                   0        3      2   \n",
       "1           1      3            0                   3        0      1   \n",
       "2           2      3            0                   3        0      1   \n",
       "3           3      3            0                   2        1      1   \n",
       "4           4      6            0                   6        0      1   \n",
       "\n",
       "                                               tweet  \n",
       "0  !!! RT @mayasolovely: As a woman you shouldn't...  \n",
       "1  !!!!! RT @mleew17: boy dats cold...tyga dwn ba...  \n",
       "2  !!!!!!! RT @UrKindOfBrand Dawg!!!! RT @80sbaby...  \n",
       "3  !!!!!!!!! RT @C_G_Anderson: @viva_based she lo...  \n",
       "4  !!!!!!!!!!!!! RT @ShenikaRoberts: The shit you...  "
      ]
     },
     "execution_count": 3,
     "metadata": {},
     "output_type": "execute_result"
    }
   ],
   "source": [
    "data_csv = pd.read_csv(\"data\\\\labeled_data.csv\")\n",
    "data_csv.head()"
   ]
  },
  {
   "cell_type": "code",
   "execution_count": 4,
   "metadata": {},
   "outputs": [],
   "source": [
    "tweets_list = data_csv['tweet'].tolist()\n",
    "labels_list = data_csv['class'].tolist()\n",
    "\n",
    "max_wordNum = 0\n",
    "for tweet in tweets_list:\n",
    "    tweet_splitted = tweet.split()\n",
    "    if len(tweet_splitted) > max_wordNum:\n",
    "        max_wordNum = len(tweet_splitted)"
   ]
  },
  {
   "cell_type": "code",
   "execution_count": 5,
   "metadata": {},
   "outputs": [
    {
     "name": "stdout",
     "output_type": "stream",
     "text": [
      "WARNING:tensorflow:From <ipython-input-5-580c4f71fb09>:1: VocabularyProcessor.__init__ (from tensorflow.contrib.learn.python.learn.preprocessing.text) is deprecated and will be removed in a future version.\n",
      "Instructions for updating:\n",
      "Please use tensorflow/transform or tf.data.\n",
      "WARNING:tensorflow:From C:\\Users\\Mahdi\\Anaconda3\\lib\\site-packages\\tensorflow\\contrib\\learn\\python\\learn\\preprocessing\\text.py:154: CategoricalVocabulary.__init__ (from tensorflow.contrib.learn.python.learn.preprocessing.categorical_vocabulary) is deprecated and will be removed in a future version.\n",
      "Instructions for updating:\n",
      "Please use tensorflow/transform or tf.data.\n",
      "WARNING:tensorflow:From C:\\Users\\Mahdi\\Anaconda3\\lib\\site-packages\\tensorflow\\contrib\\learn\\python\\learn\\preprocessing\\text.py:170: tokenizer (from tensorflow.contrib.learn.python.learn.preprocessing.text) is deprecated and will be removed in a future version.\n",
      "Instructions for updating:\n",
      "Please use tensorflow/transform or tf.data.\n"
     ]
    }
   ],
   "source": [
    "vocab_processor = learn.preprocessing.VocabularyProcessor(max_wordNum)\n",
    "vocab_processor.fit_transform(tweets_list)\n",
    "vocab_dict = vocab_processor.vocabulary_._mapping"
   ]
  },
  {
   "cell_type": "code",
   "execution_count": 6,
   "metadata": {},
   "outputs": [],
   "source": [
    "def pre_trained_embedding(dictionary,filename):\n",
    "\n",
    "    embeddings_index = {}\n",
    "    f = open(filename, encoding=\"utf8\")\n",
    "    for line in f:\n",
    "        values = line.split()\n",
    "        word = values[0]\n",
    "        coefs = np.asarray(values[1:], dtype='float32')\n",
    "        embeddings_index[word] = coefs\n",
    "    f.close()\n",
    "\n",
    "    #print('Found %s word vectors.' % len(embeddings_index))\n",
    "\n",
    "    embedding_matrix = np.zeros((len(dictionary), 200))\n",
    "    for word, i in dictionary.items():\n",
    "        embedding_vector = embeddings_index.get(word)\n",
    "        if embedding_vector is not None:\n",
    "        # words not found in embedding index will be all-zeros.\n",
    "            embedding_matrix[i] = embedding_vector\n",
    "    return embedding_matrix"
   ]
  },
  {
   "cell_type": "code",
   "execution_count": 7,
   "metadata": {},
   "outputs": [],
   "source": [
    "M_pre_train=pre_trained_embedding(vocab_dict,'glove.twitter.27B\\\\glove.twitter.27B.200d.txt')"
   ]
  },
  {
   "cell_type": "code",
   "execution_count": 8,
   "metadata": {},
   "outputs": [],
   "source": [
    "X = np.array(list(vocab_processor.transform(tweets_list)))\n",
    "\n",
    "s = pd.Series(labels_list)\n",
    "Y = np.array(pd.get_dummies(s))\n",
    "\n",
    "X_train,X_test,y_train,y_test=train_test_split(X,Y,test_size=0.25)\n",
    "X_train,X_valid,y_train,y_valid=train_test_split(X_train,y_train,test_size=0.333)"
   ]
  },
  {
   "cell_type": "code",
   "execution_count": 9,
   "metadata": {},
   "outputs": [
    {
     "name": "stdout",
     "output_type": "stream",
     "text": [
      "__________________________________________________________________________________________________\n",
      "Layer (type)                    Output Shape         Param #     Connected to                     \n",
      "==================================================================================================\n",
      "input_1 (InputLayer)            (None, 52)           0                                            \n",
      "__________________________________________________________________________________________________\n",
      "Embedding (Embedding)           (None, 52, 200)      8607200     input_1[0][0]                    \n",
      "__________________________________________________________________________________________________\n",
      "Reshape_Embedding (Reshape)     (None, 52, 200, 1)   0           Embedding[0][0]                  \n",
      "__________________________________________________________________________________________________\n",
      "1Gram_Conv (Conv2D)             (None, 52, 1, 200)   40200       Reshape_Embedding[0][0]          \n",
      "__________________________________________________________________________________________________\n",
      "2Gram_Conv (Conv2D)             (None, 51, 1, 200)   80200       Reshape_Embedding[0][0]          \n",
      "__________________________________________________________________________________________________\n",
      "3Gram_Conv (Conv2D)             (None, 50, 1, 200)   120200      Reshape_Embedding[0][0]          \n",
      "__________________________________________________________________________________________________\n",
      "1Gram_Maxpool (MaxPooling2D)    (None, 1, 1, 200)    0           1Gram_Conv[0][0]                 \n",
      "__________________________________________________________________________________________________\n",
      "2Gram_Maxpool (MaxPooling2D)    (None, 1, 1, 200)    0           2Gram_Conv[0][0]                 \n",
      "__________________________________________________________________________________________________\n",
      "3Gram_Maxpool (MaxPooling2D)    (None, 1, 1, 200)    0           3Gram_Conv[0][0]                 \n",
      "__________________________________________________________________________________________________\n",
      "1Gram_TimeDistributed_Flatten ( (None, 200)          0           1Gram_Maxpool[0][0]              \n",
      "__________________________________________________________________________________________________\n",
      "2Gram_Flatten (Flatten)         (None, 200)          0           2Gram_Maxpool[0][0]              \n",
      "__________________________________________________________________________________________________\n",
      "3Gram_Flatten (Flatten)         (None, 200)          0           3Gram_Maxpool[0][0]              \n",
      "__________________________________________________________________________________________________\n",
      "Merge_n-grams (Concatenate)     (None, 600)          0           1Gram_TimeDistributed_Flatten[0][\n",
      "                                                                 2Gram_Flatten[0][0]              \n",
      "                                                                 3Gram_Flatten[0][0]              \n",
      "__________________________________________________________________________________________________\n",
      "Fully_Connected_Layer (Dense)   (None, 20)           12020       Merge_n-grams[0][0]              \n",
      "__________________________________________________________________________________________________\n",
      "Softmax_Layer (Dense)           (None, 3)            63          Fully_Connected_Layer[0][0]      \n",
      "==================================================================================================\n",
      "Total params: 8,859,883\n",
      "Trainable params: 8,859,883\n",
      "Non-trainable params: 0\n",
      "__________________________________________________________________________________________________\n",
      "None\n"
     ]
    }
   ],
   "source": [
    "from keras.models import Model\n",
    "from keras.utils import plot_model\n",
    "from keras.layers.merge import concatenate\n",
    "\n",
    "embedding_vecor_length = 200\n",
    "class_count = Y.shape[1]\n",
    "\n",
    "x = Input(shape=(max_wordNum,))\n",
    "embedding_layer = Embedding(len(vocab_dict),embedding_vecor_length,weights=[M_pre_train]\n",
    "                       ,input_shape=(max_wordNum,),trainable=True,name='Embedding')(x)\n",
    "reshape_layer = Reshape((max_wordNum , embedding_vecor_length , 1) , name='Reshape_Embedding')(embedding_layer)\n",
    "\n",
    "one_gram_conv = Conv2D(200, kernel_size=(1, embedding_vecor_length), activation='relu' , use_bias=True\n",
    "                       , name='1Gram_Conv')(reshape_layer)\n",
    "one_gram_maxpool = MaxPooling2D(pool_size=(max_wordNum - 1 + 1, 1) \n",
    "                                , name='1Gram_Maxpool')(one_gram_conv)\n",
    "one_gram_flatten = Flatten(name='1Gram_TimeDistributed_Flatten')(one_gram_maxpool)\n",
    "\n",
    "two_gram_conv = Conv2D(200, kernel_size=(2, embedding_vecor_length), activation='relu' , use_bias=True \n",
    "                                , name='2Gram_Conv')(reshape_layer)\n",
    "two_gram_maxpool = MaxPooling2D(pool_size=(max_wordNum - 2 + 1, 1) \n",
    "                                   , name='2Gram_Maxpool')(two_gram_conv)\n",
    "two_gram_flatten = Flatten(name='2Gram_Flatten')(two_gram_maxpool)\n",
    "\n",
    "three_gram_conv = Conv2D(200, kernel_size=(3, embedding_vecor_length), activation='relu' , use_bias=True \n",
    "                                  , name='3Gram_Conv')(reshape_layer)\n",
    "three_gram_maxpool = MaxPooling2D(pool_size=(max_wordNum - 3 + 1, 1) \n",
    "                                , name='3Gram_Maxpool')(three_gram_conv)\n",
    "three_gram_flatten = Flatten(name='3Gram_Flatten')(three_gram_maxpool)\n",
    "\n",
    "merge = concatenate([one_gram_flatten, two_gram_flatten , three_gram_flatten] , name='Merge_n-grams')\n",
    "\n",
    "fully_connected = Dense(20,activation='relu',name='Fully_Connected_Layer')(merge)\n",
    "\n",
    "softmax_layer = Dense(class_count, activation='softmax', name='Softmax_Layer')(fully_connected)\n",
    "\n",
    "output = softmax_layer\n",
    "model = Model(inputs=x , outputs=output)\n",
    "\n",
    "model.compile(loss='categorical_crossentropy', optimizer='adam', metrics=['accuracy'])\n",
    "print(model.summary())"
   ]
  },
  {
   "cell_type": "code",
   "execution_count": 10,
   "metadata": {},
   "outputs": [
    {
     "name": "stdout",
     "output_type": "stream",
     "text": [
      "Train on 12397 samples, validate on 6190 samples\n",
      "Epoch 1/50\n",
      "12397/12397 [==============================] - 75s 6ms/step - loss: 0.3294 - acc: 0.8854 - val_loss: 0.2604 - val_acc: 0.9079\n",
      "Epoch 2/50\n",
      "12397/12397 [==============================] - 100s 8ms/step - loss: 0.2229 - acc: 0.9190 - val_loss: 0.2631 - val_acc: 0.9066\n",
      "Epoch 3/50\n",
      "12397/12397 [==============================] - 100s 8ms/step - loss: 0.1560 - acc: 0.9439 - val_loss: 0.2739 - val_acc: 0.9047\n",
      "Epoch 4/50\n",
      "12397/12397 [==============================] - 100s 8ms/step - loss: 0.0808 - acc: 0.9724 - val_loss: 0.3286 - val_acc: 0.8985\n",
      "Epoch 5/50\n",
      "12397/12397 [==============================] - 100s 8ms/step - loss: 0.0232 - acc: 0.9941 - val_loss: 0.3763 - val_acc: 0.8966\n",
      "Epoch 6/50\n",
      "12397/12397 [==============================] - 105s 8ms/step - loss: 0.0075 - acc: 0.9985 - val_loss: 0.4138 - val_acc: 0.8966\n",
      "Epoch 00006: early stopping\n"
     ]
    }
   ],
   "source": [
    "callbacks=[EarlyStopping(monitor='val_loss',patience=5,verbose=1)]\n",
    "\n",
    "history = model.fit(X_train,y_train,\n",
    "                    validation_data=[X_valid,y_valid],\n",
    "                    epochs=50, \n",
    "                    batch_size=100\n",
    "                    ,callbacks=callbacks\n",
    "                   )"
   ]
  },
  {
   "cell_type": "code",
   "execution_count": 11,
   "metadata": {},
   "outputs": [
    {
     "data": {
      "image/png": "[encoded data removed]",
      "text/plain": [
       "<matplotlib.figure.Figure at 0x1c3882ebb38>"
      ]
     },
     "metadata": {
      "needs_background": "light"
     },
     "output_type": "display_data"
    }
   ],
   "source": [
    "plt.figure()\n",
    "plt.plot(history.history['loss'])\n",
    "plt.plot(history.history['val_loss'])\n",
    "plt.title('train loss vs validation loss')\n",
    "plt.ylabel('loss')\n",
    "plt.xlabel('epoch')\n",
    "plt.legend(['train','validation'], loc='upper right')\n",
    "plt.show()"
   ]
  },
  {
   "cell_type": "code",
   "execution_count": 12,
   "metadata": {},
   "outputs": [
    {
     "name": "stdout",
     "output_type": "stream",
     "text": [
      "Test loss: 0.4168043276926369\n",
      "Test accuracy: 0.8997740477342772\n"
     ]
    }
   ],
   "source": [
    "score = model.evaluate(X_test, y_test, verbose=0)\n",
    "print('Test loss:', score[0])\n",
    "print('Test accuracy:', score[1])"
   ]
  },
  {
   "cell_type": "code",
   "execution_count": null,
   "metadata": {},
   "outputs": [],
   "source": []
  }
 ],
 "metadata": {
  "kernelspec": {
   "display_name": "Python 3",
   "language": "python",
   "name": "python3"
  },
  "language_info": {
   "codemirror_mode": {
    "name": "ipython",
    "version": 3
   },
   "file_extension": ".py",
   "mimetype": "text/x-python",
   "name": "python",
   "nbconvert_exporter": "python",
   "pygments_lexer": "ipython3",
   "version": "3.6.4"
  }
 },
 "nbformat": 4,
 "nbformat_minor": 2
}
