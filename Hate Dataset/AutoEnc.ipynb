{
 "cells": [
  {
   "cell_type": "code",
   "execution_count": 2,
   "metadata": {},
   "outputs": [],
   "source": [
    "import keras\n",
    "import numpy as np\n",
    "from keras import regularizers\n",
    "from keras.preprocessing.text import Tokenizer\n",
    "from keras.preprocessing.sequence import pad_sequences\n",
    "from keras.models import Sequential\n",
    "from keras.layers import *\n",
    "from keras.layers.embeddings import Embedding\n",
    "import matplotlib\n",
    "#matplotlib.use('Agg')\n",
    "#import matplotlib.pyplot as plt\n",
    "from matplotlib import pyplot as plt\n",
    "\n",
    "#import nltk\n",
    "#from nltk.corpus import stopwords\n",
    "#from nltk.stem import SnowballStemmer\n",
    "import re\n",
    "import string\n",
    "import numpy as np\n",
    "import pandas as pd\n",
    "from sklearn.manifold import TSNE\n",
    "import tensorflow as tf\n",
    "from tensorflow.contrib import rnn\n",
    "from sklearn.cross_validation import train_test_split\n",
    "from tensorflow.contrib import learn\n",
    "import os\n",
    "from collections import defaultdict\n",
    "from keras.callbacks import EarlyStopping\n",
    "from keras.layers import Input, LSTM, RepeatVector\n",
    "from keras.models import Model\n",
    "#from gensim import corpora\n",
    "#pd.set_option('display.max_rows', 1000000000)"
   ]
  },
  {
   "cell_type": "code",
   "execution_count": 3,
   "metadata": {},
   "outputs": [
    {
     "data": {
      "text/html": [
       "<div>\n",
       "<style scoped>\n",
       "    .dataframe tbody tr th:only-of-type {\n",
       "        vertical-align: middle;\n",
       "    }\n",
       "\n",
       "    .dataframe tbody tr th {\n",
       "        vertical-align: top;\n",
       "    }\n",
       "\n",
       "    .dataframe thead th {\n",
       "        text-align: right;\n",
       "    }\n",
       "</style>\n",
       "<table border=\"1\" class=\"dataframe\">\n",
       "  <thead>\n",
       "    <tr style=\"text-align: right;\">\n",
       "      <th></th>\n",
       "      <th>Unnamed: 0</th>\n",
       "      <th>count</th>\n",
       "      <th>hate_speech</th>\n",
       "      <th>offensive_language</th>\n",
       "      <th>neither</th>\n",
       "      <th>class</th>\n",
       "      <th>tweet</th>\n",
       "    </tr>\n",
       "  </thead>\n",
       "  <tbody>\n",
       "    <tr>\n",
       "      <th>0</th>\n",
       "      <td>0</td>\n",
       "      <td>3</td>\n",
       "      <td>0</td>\n",
       "      <td>0</td>\n",
       "      <td>3</td>\n",
       "      <td>2</td>\n",
       "      <td>!!! RT @mayasolovely: As a woman you shouldn't...</td>\n",
       "    </tr>\n",
       "    <tr>\n",
       "      <th>1</th>\n",
       "      <td>1</td>\n",
       "      <td>3</td>\n",
       "      <td>0</td>\n",
       "      <td>3</td>\n",
       "      <td>0</td>\n",
       "      <td>1</td>\n",
       "      <td>!!!!! RT @mleew17: boy dats cold...tyga dwn ba...</td>\n",
       "    </tr>\n",
       "    <tr>\n",
       "      <th>2</th>\n",
       "      <td>2</td>\n",
       "      <td>3</td>\n",
       "      <td>0</td>\n",
       "      <td>3</td>\n",
       "      <td>0</td>\n",
       "      <td>1</td>\n",
       "      <td>!!!!!!! RT @UrKindOfBrand Dawg!!!! RT @80sbaby...</td>\n",
       "    </tr>\n",
       "    <tr>\n",
       "      <th>3</th>\n",
       "      <td>3</td>\n",
       "      <td>3</td>\n",
       "      <td>0</td>\n",
       "      <td>2</td>\n",
       "      <td>1</td>\n",
       "      <td>1</td>\n",
       "      <td>!!!!!!!!! RT @C_G_Anderson: @viva_based she lo...</td>\n",
       "    </tr>\n",
       "    <tr>\n",
       "      <th>4</th>\n",
       "      <td>4</td>\n",
       "      <td>6</td>\n",
       "      <td>0</td>\n",
       "      <td>6</td>\n",
       "      <td>0</td>\n",
       "      <td>1</td>\n",
       "      <td>!!!!!!!!!!!!! RT @ShenikaRoberts: The shit you...</td>\n",
       "    </tr>\n",
       "  </tbody>\n",
       "</table>\n",
       "</div>"
      ],
      "text/plain": [
       "   Unnamed: 0  count  hate_speech  offensive_language  neither  class  \\\n",
       "0           0      3            0                   0        3      2   \n",
       "1           1      3            0                   3        0      1   \n",
       "2           2      3            0                   3        0      1   \n",
       "3           3      3            0                   2        1      1   \n",
       "4           4      6            0                   6        0      1   \n",
       "\n",
       "                                               tweet  \n",
       "0  !!! RT @mayasolovely: As a woman you shouldn't...  \n",
       "1  !!!!! RT @mleew17: boy dats cold...tyga dwn ba...  \n",
       "2  !!!!!!! RT @UrKindOfBrand Dawg!!!! RT @80sbaby...  \n",
       "3  !!!!!!!!! RT @C_G_Anderson: @viva_based she lo...  \n",
       "4  !!!!!!!!!!!!! RT @ShenikaRoberts: The shit you...  "
      ]
     },
     "execution_count": 3,
     "metadata": {},
     "output_type": "execute_result"
    }
   ],
   "source": [
    "data_csv = pd.read_csv(\"data\\\\labeled_data.csv\")\n",
    "data_csv.head()"
   ]
  },
  {
   "cell_type": "code",
   "execution_count": 4,
   "metadata": {},
   "outputs": [],
   "source": [
    "tweets_list = data_csv['tweet'].tolist()\n",
    "labels_list = data_csv['class'].tolist()\n",
    "\n",
    "max_wordNum = 0\n",
    "for tweet in tweets_list:\n",
    "    tweet_splitted = tweet.split()\n",
    "    if len(tweet_splitted) > max_wordNum:\n",
    "        max_wordNum = len(tweet_splitted)"
   ]
  },
  {
   "cell_type": "code",
   "execution_count": 5,
   "metadata": {},
   "outputs": [
    {
     "name": "stdout",
     "output_type": "stream",
     "text": [
      "WARNING:tensorflow:From <ipython-input-5-580c4f71fb09>:1: VocabularyProcessor.__init__ (from tensorflow.contrib.learn.python.learn.preprocessing.text) is deprecated and will be removed in a future version.\n",
      "Instructions for updating:\n",
      "Please use tensorflow/transform or tf.data.\n",
      "WARNING:tensorflow:From C:\\Users\\Mahdi\\Anaconda3\\lib\\site-packages\\tensorflow\\contrib\\learn\\python\\learn\\preprocessing\\text.py:154: CategoricalVocabulary.__init__ (from tensorflow.contrib.learn.python.learn.preprocessing.categorical_vocabulary) is deprecated and will be removed in a future version.\n",
      "Instructions for updating:\n",
      "Please use tensorflow/transform or tf.data.\n",
      "WARNING:tensorflow:From C:\\Users\\Mahdi\\Anaconda3\\lib\\site-packages\\tensorflow\\contrib\\learn\\python\\learn\\preprocessing\\text.py:170: tokenizer (from tensorflow.contrib.learn.python.learn.preprocessing.text) is deprecated and will be removed in a future version.\n",
      "Instructions for updating:\n",
      "Please use tensorflow/transform or tf.data.\n"
     ]
    }
   ],
   "source": [
    "vocab_processor = learn.preprocessing.VocabularyProcessor(max_wordNum)\n",
    "vocab_processor.fit_transform(tweets_list)\n",
    "vocab_dict = vocab_processor.vocabulary_._mapping"
   ]
  },
  {
   "cell_type": "code",
   "execution_count": 6,
   "metadata": {},
   "outputs": [],
   "source": [
    "def pre_trained_embedding(dictionary,filename):\n",
    "\n",
    "    embeddings_index = {}\n",
    "    f = open(filename, encoding=\"utf8\")\n",
    "    for line in f:\n",
    "        values = line.split()\n",
    "        word = values[0]\n",
    "        coefs = np.asarray(values[1:], dtype='float32')\n",
    "        embeddings_index[word] = coefs\n",
    "    f.close()\n",
    "\n",
    "    #print('Found %s word vectors.' % len(embeddings_index))\n",
    "\n",
    "    embedding_matrix = np.zeros((len(dictionary), 200))\n",
    "    for word, i in dictionary.items():\n",
    "        embedding_vector = embeddings_index.get(word)\n",
    "        if embedding_vector is not None:\n",
    "        # words not found in embedding index will be all-zeros.\n",
    "            embedding_matrix[i] = embedding_vector\n",
    "    return embedding_matrix"
   ]
  },
  {
   "cell_type": "code",
   "execution_count": 7,
   "metadata": {},
   "outputs": [],
   "source": [
    "M_pre_train=pre_trained_embedding(vocab_dict,'glove.twitter.27B\\\\glove.twitter.27B.200d.txt')"
   ]
  },
  {
   "cell_type": "code",
   "execution_count": 8,
   "metadata": {},
   "outputs": [],
   "source": [
    "X = np.array(list(vocab_processor.transform(tweets_list)))\n",
    "\n",
    "s = pd.Series(labels_list)\n",
    "Y = np.array(pd.get_dummies(s))\n",
    "\n",
    "X_train,X_test,y_train,y_test=train_test_split(X,Y,test_size=0.25)\n",
    "X_train,X_valid,y_train,y_valid=train_test_split(X_train,y_train,test_size=0.333)"
   ]
  },
  {
   "cell_type": "code",
   "execution_count": 9,
   "metadata": {},
   "outputs": [],
   "source": [
    "embedding_vecor_length = 200\n",
    "\n",
    "model_embed = Sequential()\n",
    "model_embed.add(Embedding(len(vocab_dict),embedding_vecor_length,weights=[M_pre_train],\n",
    "                          input_shape=(max_wordNum,),trainable=False, name='Embedding'))\n",
    "model_embed.compile(optimizer='RMSprop', loss='mean_squared_error')\n",
    "#print (model_embed.summary())\n",
    "X_train_embedded = model_embed.predict(X_train)\n",
    "X_valid_embedded = model_embed.predict(X_valid)"
   ]
  },
  {
   "cell_type": "code",
   "execution_count": 10,
   "metadata": {},
   "outputs": [
    {
     "name": "stdout",
     "output_type": "stream",
     "text": [
      "_________________________________________________________________\n",
      "Layer (type)                 Output Shape              Param #   \n",
      "=================================================================\n",
      "input_1 (InputLayer)         (None, 52, 200)           0         \n",
      "_________________________________________________________________\n",
      "lstm_1 (LSTM)                (None, 100)               120400    \n",
      "_________________________________________________________________\n",
      "repeat_vector_1 (RepeatVecto (None, 52, 100)           0         \n",
      "_________________________________________________________________\n",
      "lstm_2 (LSTM)                (None, 52, 200)           240800    \n",
      "=================================================================\n",
      "Total params: 361,200\n",
      "Trainable params: 361,200\n",
      "Non-trainable params: 0\n",
      "_________________________________________________________________\n",
      "None\n"
     ]
    }
   ],
   "source": [
    "#embedding_vecor_length = 200\n",
    "latent_dim = 100\n",
    "\n",
    "inputs = Input(shape=(max_wordNum,embedding_vecor_length))\n",
    "\n",
    "#embedding = Embedding(len(vocab_dict),embedding_vecor_length,weights=[M_pre_train],trainable=True)(inputs)\n",
    "\n",
    "encoded = LSTM(latent_dim)(inputs) #(embedding)\n",
    "\n",
    "decoded1 = RepeatVector(max_wordNum)(encoded)\n",
    "decoded2 = LSTM(embedding_vecor_length, return_sequences=True)(decoded1)\n",
    "#decoded3 = LSTM(max_wordNum, return_sequences=False)(decoded2)\n",
    "#decoded3 = TimeDistributed(Dense(1))(decoded2) \n",
    "#decoded3 = Reshape((max_wordNum,))(decoded3)\n",
    "\n",
    "sequence_autoencoder = Model(inputs, decoded2)\n",
    "\n",
    "encoder = Model(inputs, encoded)\n",
    "\n",
    "sequence_autoencoder.compile(optimizer='RMSprop', loss='mean_squared_error')\n",
    "#sequence_autoencoder.compile(loss='binary_crossentropy', optimizer='adam')\n",
    "\n",
    "\n",
    "print (sequence_autoencoder.summary())"
   ]
  },
  {
   "cell_type": "code",
   "execution_count": 11,
   "metadata": {},
   "outputs": [
    {
     "name": "stdout",
     "output_type": "stream",
     "text": [
      "Train on 12397 samples, validate on 6190 samples\n",
      "Epoch 1/20\n",
      "12397/12397 [==============================] - 106s 9ms/step - loss: 0.0491 - val_loss: 0.0479\n",
      "Epoch 2/20\n",
      "12397/12397 [==============================] - 99s 8ms/step - loss: 0.0479 - val_loss: 0.0464\n",
      "Epoch 3/20\n",
      "12397/12397 [==============================] - 99s 8ms/step - loss: 0.0468 - val_loss: 0.0455\n",
      "Epoch 4/20\n",
      "12397/12397 [==============================] - 98s 8ms/step - loss: 0.0459 - val_loss: 0.0450\n",
      "Epoch 5/20\n",
      "12397/12397 [==============================] - 103s 8ms/step - loss: 0.0455 - val_loss: 0.0448\n",
      "Epoch 6/20\n",
      "12397/12397 [==============================] - 80s 6ms/step - loss: 0.0452 - val_loss: 0.0449\n",
      "Epoch 7/20\n",
      "12397/12397 [==============================] - 65s 5ms/step - loss: 0.0449 - val_loss: 0.0444\n",
      "Epoch 8/20\n",
      "12397/12397 [==============================] - 60s 5ms/step - loss: 0.0448 - val_loss: 0.0444\n",
      "Epoch 9/20\n",
      "12397/12397 [==============================] - 64s 5ms/step - loss: 0.0446 - val_loss: 0.0440\n",
      "Epoch 10/20\n",
      "12397/12397 [==============================] - 63s 5ms/step - loss: 0.0445 - val_loss: 0.0443\n",
      "Epoch 11/20\n",
      "12397/12397 [==============================] - 63s 5ms/step - loss: 0.0444 - val_loss: 0.0440\n",
      "Epoch 12/20\n",
      "12397/12397 [==============================] - 60s 5ms/step - loss: 0.0443 - val_loss: 0.0439\n",
      "Epoch 13/20\n",
      "12397/12397 [==============================] - 62s 5ms/step - loss: 0.0443 - val_loss: 0.0442\n",
      "Epoch 14/20\n",
      "12397/12397 [==============================] - 60s 5ms/step - loss: 0.0442 - val_loss: 0.0438\n",
      "Epoch 15/20\n",
      "12397/12397 [==============================] - 62s 5ms/step - loss: 0.0441 - val_loss: 0.0438\n",
      "Epoch 16/20\n",
      "12397/12397 [==============================] - 60s 5ms/step - loss: 0.0440 - val_loss: 0.0442\n",
      "Epoch 17/20\n",
      "12397/12397 [==============================] - 62s 5ms/step - loss: 0.0439 - val_loss: 0.0435\n",
      "Epoch 18/20\n",
      "12397/12397 [==============================] - 63s 5ms/step - loss: 0.0439 - val_loss: 0.0440\n",
      "Epoch 19/20\n",
      "12397/12397 [==============================] - 82s 7ms/step - loss: 0.0438 - val_loss: 0.0436\n",
      "Epoch 20/20\n",
      "12397/12397 [==============================] - 102s 8ms/step - loss: 0.0438 - val_loss: 0.0435\n"
     ]
    }
   ],
   "source": [
    "callbacks=[EarlyStopping(monitor='val_loss',patience=5,verbose=1)]\n",
    "\n",
    "autoencoder_train = sequence_autoencoder.fit(X_train_embedded, X_train_embedded,\n",
    "                            batch_size=100,\n",
    "                            epochs=20,\n",
    "                            validation_data=(X_valid_embedded, X_valid_embedded)\n",
    "                            ,callbacks=callbacks\n",
    "                            )"
   ]
  },
  {
   "cell_type": "code",
   "execution_count": 12,
   "metadata": {},
   "outputs": [
    {
     "data": {
      "image/png": "[encoded data removed]",
      "text/plain": [
       "<matplotlib.figure.Figure at 0x2bc0d7eb860>"
      ]
     },
     "metadata": {
      "needs_background": "light"
     },
     "output_type": "display_data"
    }
   ],
   "source": [
    "plt.figure()\n",
    "plt.plot(autoencoder_train.history['loss'])\n",
    "plt.plot(autoencoder_train.history['val_loss'])\n",
    "plt.title('train loss vs validation loss')\n",
    "plt.ylabel('loss')\n",
    "plt.xlabel('epoch')\n",
    "plt.legend(['train','validation'], loc='upper right')\n",
    "plt.show()"
   ]
  },
  {
   "cell_type": "code",
   "execution_count": 13,
   "metadata": {},
   "outputs": [
    {
     "name": "stdout",
     "output_type": "stream",
     "text": [
      "Test loss: 0.04321942929349229\n"
     ]
    }
   ],
   "source": [
    "X_test_embedded = model_embed.predict(X_test)\n",
    "score = sequence_autoencoder.evaluate(X_test_embedded, X_test_embedded, verbose=0)\n",
    "print('Test loss:', score)"
   ]
  },
  {
   "cell_type": "code",
   "execution_count": null,
   "metadata": {},
   "outputs": [],
   "source": []
  },
  {
   "cell_type": "code",
   "execution_count": 14,
   "metadata": {},
   "outputs": [
    {
     "name": "stdout",
     "output_type": "stream",
     "text": [
      "_________________________________________________________________\n",
      "Layer (type)                 Output Shape              Param #   \n",
      "=================================================================\n",
      "Hidden_Layer_1 (Dense)       (None, 20)                2020      \n",
      "_________________________________________________________________\n",
      "Softmax_Layer (Dense)        (None, 3)                 63        \n",
      "=================================================================\n",
      "Total params: 2,083\n",
      "Trainable params: 2,083\n",
      "Non-trainable params: 0\n",
      "_________________________________________________________________\n",
      "None\n"
     ]
    }
   ],
   "source": [
    "X_train_encoded = encoder.predict(X_train_embedded)\n",
    "X_valid_encoded = encoder.predict(X_valid_embedded)\n",
    "\n",
    "class_count = Y.shape[1]\n",
    "\n",
    "model = Sequential()\n",
    "model.add(Dense(20,activation='relu',name='Hidden_Layer_1', input_shape=(latent_dim,)))\n",
    "model.add(Dense(class_count, activation='softmax', name='Softmax_Layer'))\n",
    "model.compile(loss='categorical_crossentropy', optimizer='adam', metrics=['accuracy'])\n",
    "print (model.summary())"
   ]
  },
  {
   "cell_type": "code",
   "execution_count": 15,
   "metadata": {},
   "outputs": [
    {
     "name": "stdout",
     "output_type": "stream",
     "text": [
      "Train on 12397 samples, validate on 6190 samples\n",
      "Epoch 1/100\n",
      "12397/12397 [==============================] - 2s 147us/step - loss: 0.7107 - acc: 0.7855 - val_loss: 0.5361 - val_acc: 0.8234\n",
      "Epoch 2/100\n",
      "12397/12397 [==============================] - 1s 49us/step - loss: 0.5167 - acc: 0.8224 - val_loss: 0.4997 - val_acc: 0.8268\n",
      "Epoch 3/100\n",
      "12397/12397 [==============================] - 1s 45us/step - loss: 0.4984 - acc: 0.8265 - val_loss: 0.4920 - val_acc: 0.8286\n",
      "Epoch 4/100\n",
      "12397/12397 [==============================] - 1s 50us/step - loss: 0.4923 - acc: 0.8287 - val_loss: 0.4885 - val_acc: 0.8307\n",
      "Epoch 5/100\n",
      "12397/12397 [==============================] - 1s 51us/step - loss: 0.4887 - acc: 0.8301 - val_loss: 0.4851 - val_acc: 0.8351\n",
      "Epoch 6/100\n",
      "12397/12397 [==============================] - 1s 47us/step - loss: 0.4869 - acc: 0.8305 - val_loss: 0.4842 - val_acc: 0.8331\n",
      "Epoch 7/100\n",
      "12397/12397 [==============================] - 1s 50us/step - loss: 0.4849 - acc: 0.8309 - val_loss: 0.4821 - val_acc: 0.8342\n",
      "Epoch 8/100\n",
      "12397/12397 [==============================] - 1s 56us/step - loss: 0.4832 - acc: 0.8316 - val_loss: 0.4814 - val_acc: 0.8362\n",
      "Epoch 9/100\n",
      "12397/12397 [==============================] - 1s 55us/step - loss: 0.4825 - acc: 0.8324 - val_loss: 0.4807 - val_acc: 0.8373\n",
      "Epoch 10/100\n",
      "12397/12397 [==============================] - 1s 53us/step - loss: 0.4815 - acc: 0.8329 - val_loss: 0.4799 - val_acc: 0.8347\n",
      "Epoch 11/100\n",
      "12397/12397 [==============================] - 1s 47us/step - loss: 0.4809 - acc: 0.8323 - val_loss: 0.4785 - val_acc: 0.8355\n",
      "Epoch 12/100\n",
      "12397/12397 [==============================] - 1s 46us/step - loss: 0.4800 - acc: 0.8328 - val_loss: 0.4796 - val_acc: 0.8328\n",
      "Epoch 13/100\n",
      "12397/12397 [==============================] - 1s 58us/step - loss: 0.4797 - acc: 0.8329 - val_loss: 0.4774 - val_acc: 0.8370\n",
      "Epoch 14/100\n",
      "12397/12397 [==============================] - 1s 50us/step - loss: 0.4792 - acc: 0.8337 - val_loss: 0.4774 - val_acc: 0.8360\n",
      "Epoch 15/100\n",
      "12397/12397 [==============================] - 1s 55us/step - loss: 0.4779 - acc: 0.8354 - val_loss: 0.4774 - val_acc: 0.8334\n",
      "Epoch 16/100\n",
      "12397/12397 [==============================] - 1s 47us/step - loss: 0.4781 - acc: 0.8326 - val_loss: 0.4775 - val_acc: 0.8352\n",
      "Epoch 17/100\n",
      "12397/12397 [==============================] - 1s 50us/step - loss: 0.4779 - acc: 0.8356 - val_loss: 0.4771 - val_acc: 0.8344\n",
      "Epoch 18/100\n",
      "12397/12397 [==============================] - 1s 54us/step - loss: 0.4777 - acc: 0.8341 - val_loss: 0.4757 - val_acc: 0.8373\n",
      "Epoch 19/100\n",
      "12397/12397 [==============================] - 1s 56us/step - loss: 0.4769 - acc: 0.8336 - val_loss: 0.4770 - val_acc: 0.8341\n",
      "Epoch 20/100\n",
      "12397/12397 [==============================] - 1s 49us/step - loss: 0.4769 - acc: 0.8340 - val_loss: 0.4761 - val_acc: 0.8359\n",
      "Epoch 21/100\n",
      "12397/12397 [==============================] - 1s 59us/step - loss: 0.4766 - acc: 0.8340 - val_loss: 0.4756 - val_acc: 0.8378\n",
      "Epoch 22/100\n",
      "12397/12397 [==============================] - 1s 47us/step - loss: 0.4765 - acc: 0.8338 - val_loss: 0.4749 - val_acc: 0.8363\n",
      "Epoch 23/100\n",
      "12397/12397 [==============================] - 1s 49us/step - loss: 0.4759 - acc: 0.8354 - val_loss: 0.4745 - val_acc: 0.8368\n",
      "Epoch 24/100\n",
      "12397/12397 [==============================] - 1s 56us/step - loss: 0.4753 - acc: 0.8338 - val_loss: 0.4749 - val_acc: 0.8351\n",
      "Epoch 25/100\n",
      "12397/12397 [==============================] - 1s 48us/step - loss: 0.4750 - acc: 0.8352 - val_loss: 0.4752 - val_acc: 0.8360\n",
      "Epoch 26/100\n",
      "12397/12397 [==============================] - 1s 53us/step - loss: 0.4750 - acc: 0.8363 - val_loss: 0.4772 - val_acc: 0.8341\n",
      "Epoch 27/100\n",
      "12397/12397 [==============================] - 1s 50us/step - loss: 0.4754 - acc: 0.8353 - val_loss: 0.4762 - val_acc: 0.8342\n",
      "Epoch 28/100\n",
      "12397/12397 [==============================] - 1s 60us/step - loss: 0.4750 - acc: 0.8346 - val_loss: 0.4747 - val_acc: 0.8360\n",
      "Epoch 00028: early stopping\n"
     ]
    }
   ],
   "source": [
    "callbacks=[EarlyStopping(monitor='val_loss',patience=5,verbose=1)]\n",
    "\n",
    "history = model.fit(X_train_encoded, y_train, \n",
    "                    validation_data=[X_valid_encoded,y_valid],\n",
    "                    epochs=100, \n",
    "                    batch_size=100\n",
    "                    ,callbacks=callbacks\n",
    "                   )"
   ]
  },
  {
   "cell_type": "code",
   "execution_count": 16,
   "metadata": {},
   "outputs": [
    {
     "data": {
      "image/png": "[encoded data removed]",
      "text/plain": [
       "<matplotlib.figure.Figure at 0x2bc0e8b8080>"
      ]
     },
     "metadata": {
      "needs_background": "light"
     },
     "output_type": "display_data"
    }
   ],
   "source": [
    "plt.figure()\n",
    "plt.plot(history.history['loss'])\n",
    "plt.plot(history.history['val_loss'])\n",
    "plt.title('train loss vs validation loss')\n",
    "plt.ylabel('loss')\n",
    "plt.xlabel('epoch')\n",
    "plt.legend(['train','validation'], loc='upper right')\n",
    "plt.show()"
   ]
  },
  {
   "cell_type": "code",
   "execution_count": 17,
   "metadata": {},
   "outputs": [
    {
     "name": "stdout",
     "output_type": "stream",
     "text": [
      "Test loss: 0.45700653344681375\n",
      "Test accuracy: 0.8465138799994896\n"
     ]
    }
   ],
   "source": [
    "X_test_encoded = encoder.predict(X_test_embedded)\n",
    "score = model.evaluate(X_test_encoded, y_test, verbose=0)\n",
    "print('Test loss:', score[0])\n",
    "print('Test accuracy:', score[1])"
   ]
  },
  {
   "cell_type": "code",
   "execution_count": null,
   "metadata": {},
   "outputs": [],
   "source": []
  }
 ],
 "metadata": {
  "kernelspec": {
   "display_name": "Python 3",
   "language": "python",
   "name": "python3"
  },
  "language_info": {
   "codemirror_mode": {
    "name": "ipython",
    "version": 3
   },
   "file_extension": ".py",
   "mimetype": "text/x-python",
   "name": "python",
   "nbconvert_exporter": "python",
   "pygments_lexer": "ipython3",
   "version": "3.6.4"
  }
 },
 "nbformat": 4,
 "nbformat_minor": 2
}
